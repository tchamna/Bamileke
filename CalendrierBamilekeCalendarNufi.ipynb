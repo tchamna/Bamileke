{
  "nbformat": 4,
  "nbformat_minor": 0,
  "metadata": {
    "colab": {
      "provenance": [],
      "include_colab_link": true
    },
    "kernelspec": {
      "name": "python3",
      "display_name": "Python 3"
    },
    "language_info": {
      "name": "python"
    }
  },
  "cells": [
    {
      "cell_type": "markdown",
      "metadata": {
        "id": "view-in-github",
        "colab_type": "text"
      },
      "source": [
        "<a href=\"https://colab.research.google.com/github/tchamna/Bamileke/blob/main/CalendrierBamilekeCalendarNufi.ipynb\" target=\"_parent\"><img src=\"https://colab.research.google.com/assets/colab-badge.svg\" alt=\"Open In Colab\"/></a>"
      ]
    },
    {
      "cell_type": "markdown",
      "source": [
        "Author: Shck Ca᷅mnà' (Tchamna), Resulam, www.resulam.com "
      ],
      "metadata": {
        "id": "VTGDQrnsCKKN"
      }
    },
    {
      "cell_type": "markdown",
      "source": [
        "# Lié'nzɑ̄ pí Mɑ̄ŋū : Day and Month Definition"
      ],
      "metadata": {
        "id": "2c-6OkeIBj1d"
      }
    },
    {
      "cell_type": "code",
      "source": [
        "Language = \"Nufi\"\n",
        "\n",
        "Days_Nufi = [\"Líé'nkwè'\",\"Nkɑ́ɑ́ntēē\",\"Nzêngòò\",\"Ncômntēē\",\"Nzîngū\",\"Nzîsō\",\"Nsû'kwɑ̀\",\"Nthʉ̄'ntāā\"]\n",
        "\n",
        "Month_Nufi = [\"Ngù'fī\",\"Nkùɑ̀nʉ̀ɑ̀\",\"Mbàkngòfāt\",\"Sò'njɑ̀ɑ̀\",\"Njwēnɑ̌hntà'\",\"Mòmòshʉ̄\",\"Ntûmbhìngòfāt\",\"Mɑ̂ngà'nshì\",\n",
        "              \"Kùkū'\", \"Ndʉ̌'nzɑ̄\",\"Nkhʉ̀ɑ̀nʉ̀ɑ̀\",\"Ncátmɑ̄ŋū\"]\n",
        "\n",
        "Month_Eng = ['January', 'February', 'March', 'April', 'May', 'June', 'July', 'August', 'September', 'October', 'November', 'December']\n",
        "\n",
        "Month_Nufi_Eng = dict(zip(Month_Eng,Month_Nufi))\n"
      ],
      "metadata": {
        "id": "PqfJ0br_CADp"
      },
      "execution_count": null,
      "outputs": []
    },
    {
      "cell_type": "markdown",
      "source": [
        "# Function Definition"
      ],
      "metadata": {
        "id": "8ag3I0UEApYr"
      }
    },
    {
      "cell_type": "code",
      "source": [
        "import pandas as pd \n",
        "\n",
        "def calendar_days(begin_nufi_day, year,month, max_day):\n",
        "\n",
        "  \"\"\"\n",
        "  begin_nufi_day is one of the following days:\n",
        "\n",
        "  \"Líé'nkwè'\",\n",
        "  \"Nkɑ́ɑ́ntēē\",\n",
        "  \"Nzêngòò\",\n",
        "  \"Ncômntēē\",\n",
        "  \"Nzîngū\",\n",
        "  \"Nzîsō\",\n",
        "  \"Nsû'kwɑ̀\",\n",
        "  \"Nthʉ̄'ntāā\"\n",
        "  \n",
        "  \"\"\"\n",
        "\n",
        "  import calendar\n",
        "  import pandas as pd \n",
        "\n",
        "  from datetime import datetime\n",
        "  \n",
        "  beg_date_string = f\"{year}-{month}-{1}\"\n",
        "  beg_day_of_week = datetime.strptime(beg_date_string, \"%Y-%m-%d\").strftime(\"%A\")\n",
        "  Month_str = datetime.strptime(beg_date_string, \"%Y-%m-%d\").strftime(\"%B\")\n",
        "\n",
        "  dict_day_num = {\"Monday\": 1, \"Tuesday\": 2, \"Wednesday\": 3, \"Thursday\": 4, \"Friday\": 5, \"Saturday\": 6, \"Sunday\": 7}\n",
        "  start_day_num = dict_day_num[beg_day_of_week]\n",
        "  # display the calendar\n",
        "  # print(calendar.month(year, month))\n",
        "\n",
        "  cal = calendar.monthcalendar(year, month)\n",
        "  # print(*cal)\n",
        "  days_int = [item for sublist in cal for item in sublist]\n",
        "  days_list = []\n",
        "  Days = [\"Monday\", \"Tuesday\", \"Wednesday\", \"Thursday\", \"Friday\", \"Saturday\", \"Sunday\"]\n",
        "  Days_Nufi = [\"Líé'nkwè'\",\"Nkɑ́ɑ́ntēē\",\"Nzêngòò\",\"Ncômntēē\",\"Nzîngū\",\"Nzîsō\",\"Nsû'kwɑ̀\",\"Nthʉ̄'ntāā\"]\n",
        "  start_day_num_nufi = Days_Nufi.index(begin_nufi_day)\n",
        "\n",
        "  days_int = [item for sublist in cal for item in sublist]\n",
        "  days_list = []\n",
        "\n",
        "  for n in range(0,max_day):\n",
        "      \n",
        "    temp = [f\"{Month_str} {days_int[n+start_day_num-1]} {str(year)}\", Days[(n+start_day_num-1)%7],Days_Nufi[(n+start_day_num_nufi)%8]]\n",
        "    days_list.append(temp)\n",
        "  # print(days_list)\n",
        "  df = pd.DataFrame(days_list)\n",
        "  df.columns = [\"Date\",\"Day(Eng)\",\"Day(Nufi)\"]\n",
        "  return df"
      ],
      "metadata": {
        "id": "RmoeC6wP2uLu"
      },
      "execution_count": 2,
      "outputs": []
    },
    {
      "cell_type": "code",
      "source": [
        "###############################################################################################\n",
        "#                                                                                             #\n",
        "##############################################################################################\n",
        "# Days_Nufi = [\"Líé'nkwè'\",\"Nkɑ́ɑ́ntēē\",\"Nzêngòò\",\"Ncômntēē\",\"Nzîngū\",\"Nzîsō\",\"Nsû'kwɑ̀\",\"Nthʉ̄'ntāā\"]\n",
        "def calendar_nufi(df, next_month_index, year=2023, month=6, Number_of_days = 31):    \n",
        "  # Days_June = 30\n",
        "  start_day_nufi = Days_Nufi[next_month_index]\n",
        "  max_day = Number_of_days\n",
        "\n",
        "  Date_df = calendar_days(start_day_nufi,year,month, max_day)\n",
        "  df = pd.concat([df,Date_df],axis=0)\n",
        "\n",
        "  next_month_index = (Number_of_days%8 + Days_Nufi.index(start_day_nufi))%8\n",
        "\n",
        "  return df, next_month_index\n"
      ],
      "metadata": {
        "id": "Oy_OZ_pOCyH4"
      },
      "execution_count": 3,
      "outputs": []
    },
    {
      "cell_type": "code",
      "source": [
        "\n",
        "def nufi_calendar_yearly(next_month_index, year = 2023, days_Feb=28):\n",
        "    \n",
        "  df = pd.DataFrame()\n",
        "\n",
        "  # print(next_month_index)\n",
        "\n",
        "  df, next_month_index = calendar_nufi(df, next_month_index, year=year,month=1, Number_of_days = 31)\n",
        "\n",
        "  df, next_month_index = calendar_nufi(df, next_month_index, year=year,month=2,  Number_of_days = days_Feb)\n",
        "\n",
        "  df, next_month_index = calendar_nufi(df, next_month_index, year=year,month=3, Number_of_days = 31)\n",
        "\n",
        "  df, next_month_index = calendar_nufi(df, next_month_index, year=year,month=4, Number_of_days = 30)\n",
        "\n",
        "  df, next_month_index = calendar_nufi(df, next_month_index, year=year,month=5, Number_of_days = 31)\n",
        "\n",
        "  df, next_month_index = calendar_nufi(df, next_month_index, year=year,month=6, Number_of_days = 30)\n",
        "\n",
        "  df, next_month_index = calendar_nufi(df, next_month_index, year=year,month=7, Number_of_days = 31)\n",
        "\n",
        "  df, next_month_index = calendar_nufi(df, next_month_index, year=year,month=8, Number_of_days = 31)\n",
        "\n",
        "  df, next_month_index = calendar_nufi(df, next_month_index, year=year,month=9, Number_of_days = 30)\n",
        "\n",
        "  df, next_month_index = calendar_nufi(df, next_month_index, year=year,month=10, Number_of_days = 31)\n",
        "\n",
        "  df, next_month_index = calendar_nufi(df, next_month_index, year=year,month=11, Number_of_days = 30)\n",
        "\n",
        "  df, next_month_index = calendar_nufi(df, next_month_index, year=year,month=12, Number_of_days = 31)\n",
        "\n",
        "  df.to_csv(\"Nufi_Calendar_2023.csv\",encoding=\"utf 8 - sig\")\n",
        "\n",
        "  return df, next_month_index"
      ],
      "metadata": {
        "id": "5I3W3ku2N50d"
      },
      "execution_count": 32,
      "outputs": []
    },
    {
      "cell_type": "code",
      "source": [],
      "metadata": {
        "id": "tQALdCCOS8uY"
      },
      "execution_count": null,
      "outputs": []
    },
    {
      "cell_type": "code",
      "source": [],
      "metadata": {
        "id": "ST8PWhiSrM-P"
      },
      "execution_count": null,
      "outputs": []
    },
    {
      "cell_type": "code",
      "source": [
        "# February 2023: 28 days (common year)\n",
        "# February 2024: 29 days (leap year)\n",
        "# February 2025: 28 days (common year)\n",
        "# February 2026: 28 days (common year)\n",
        "# February 2027: 28 days (common year)\n",
        "\n",
        "def is_leap_year(year):\n",
        "    return year % 4 == 0 and (year % 100 != 0 or year % 400 == 0)\n",
        "\n",
        "# Example usage\n",
        "year = 2023\n",
        "if is_leap_year(year):\n",
        "    print(f\"{year} is a leap year.\")\n",
        "else:\n",
        "    print(f\"{year} is not a leap year.\")\n"
      ],
      "metadata": {
        "colab": {
          "base_uri": "https://localhost:8080/"
        },
        "id": "-ZNhgc5BiDIY",
        "outputId": "83f6ce7b-1c25-4981-8617-1295c06c1256"
      },
      "execution_count": 7,
      "outputs": [
        {
          "output_type": "stream",
          "name": "stdout",
          "text": [
            "2023 is not a leap year.\n"
          ]
        }
      ]
    },
    {
      "cell_type": "code",
      "source": [],
      "metadata": {
        "id": "xYCOLC5hjRU0"
      },
      "execution_count": 7,
      "outputs": []
    },
    {
      "cell_type": "code",
      "source": [],
      "metadata": {
        "id": "KI048vW15eRD"
      },
      "execution_count": 51,
      "outputs": []
    },
    {
      "cell_type": "code",
      "source": [
        "def calendar_nufi_many_years(This_year,End_year,month_index):\n",
        "\n",
        "  import pandas as pd \n",
        "  \"\"\"\n",
        "  This calendar will give you all the days in the year calendar_year\n",
        "  And the calendar history from 2023 to calendar_year\n",
        "  \n",
        "  Days_Nufi = [\"Líé'nkwè'\",\"Nkɑ́ɑ́ntēē\",\"Nzêngòò\",\"Ncômntēē\",\"Nzîngū\",\"Nzîsō\",\"Nsû'kwɑ̀\",\"Nthʉ̄'ntāā\"]\n",
        "\n",
        "  \"\"\"\n",
        "  # Note: The initial date is what determine the remaining date!\n",
        "  # You should know what date corresponds to, say, January 1, 2023\n",
        "  # In my case, January 1, 2023 = Líé'nkwè', that is why Days_Nufi[0] = Líé'nkwè'\n",
        "  # If for example, I am in 2025, and January 1, 2025 = Ncômntēē, then, I will pick\n",
        "  # month_index = 3, because Days_Nufi[3] = Ncômntēē, and I will change the variable This_year to 2025\n",
        "\n",
        "  # # INITIAL DATE\n",
        "  # month_index = 0 # Days_Nufi[0] = \"Líé'nkwè'\"\n",
        "  # This_year = 2023 # We are in 2023, the year of creation of this script\n",
        "\n",
        "  # month_index = 3 # Days_Nufi[3] = \"Ncômntēē\"\n",
        "  # This_year = 2025 # \n",
        "\n",
        "  \n",
        "\n",
        "  ddf = pd.DataFrame()\n",
        "  for year in range(This_year,End_year+1):\n",
        "    if is_leap_year(year):\n",
        "      days_Feb_ = 29\n",
        "    else:\n",
        "      days_Feb_ = 28\n",
        "    df, month_index = nufi_calendar_yearly(month_index, year = year,days_Feb=days_Feb_)\n",
        "    ddf = pd.concat([ddf,df], axis=0)\n",
        "  return df, ddf\n",
        "\n",
        "\n",
        "# INITIAL DATE\n",
        "month_index = 0 # Days_Nufi[0] = \"Líé'nkwè'\"\n",
        "This_year = 2023 # We are in 2023, the year of creation of this script\n",
        "\n",
        "# month_index = 3 # Days_Nufi[3] = \"Ncômntēē\"\n",
        "# This_year = 2025 # \n",
        "\n",
        "#END YEAR\n",
        "End_year = 2200\n",
        "\n",
        "calendar_end_year, calendar_history = calendar_nufi_many_years(This_year,End_year,month_index)\n",
        "\n",
        "\n",
        "\n",
        "calendar_history"
      ],
      "metadata": {
        "id": "6c3UXeS9gwVG"
      },
      "execution_count": null,
      "outputs": []
    },
    {
      "cell_type": "code",
      "source": [
        "\n",
        "def fromEng_toNufi_Date(x):\n",
        "\n",
        "  Month = x.split(\" \")[0]\n",
        "  Day = x.split(\" \")[1]\n",
        "  Year = x.split(\" \")[2]\n",
        "\n",
        "  if int(Day) == 1:\n",
        "      return f\"Ntûmbhì līē', {Month_Nufi_Eng[Month]}, Ngù' {Year}\"\n",
        "\n",
        "  return f\"līē' {Day}, {Month_Nufi_Eng[Month]}, Ngù' {Year}\"\n"
      ],
      "metadata": {
        "id": "4lKl1IQ6AHID"
      },
      "execution_count": 109,
      "outputs": []
    },
    {
      "cell_type": "code",
      "source": [
        "\n",
        "\n",
        "calendar_history[\"Nufi_Date\"] = calendar_history[\"Date\"].apply(fromEng_toNufi_Date)\n",
        "calendar_history[\"Nufi_Full_Date\"] = calendar_history[\"Day(Nufi)\"] + \", \" + calendar_history[\"Nufi_Date\"]\n",
        "\n",
        "calendar_history"
      ],
      "metadata": {
        "id": "zyYBn9eyMHFM"
      },
      "execution_count": null,
      "outputs": []
    },
    {
      "cell_type": "markdown",
      "source": [
        "# Today's Date in Nufi"
      ],
      "metadata": {
        "id": "BJhiU5buAKVJ"
      }
    },
    {
      "cell_type": "code",
      "source": [
        "import datetime, time \n",
        "\n",
        "# Get the current date\n",
        "now = datetime.datetime.now()\n",
        "\n",
        "# Format the current date as a year-month-day string\n",
        "Today = now.strftime(\"%B %d %Y\")\n",
        "\n",
        "mask_today = calendar_history[\"Date\"] == Today\n",
        "\n",
        "nufi_date_series = calendar_history[mask_today][\"Nufi_Full_Date\"]\n",
        "eng_date_series = calendar_history[mask_today][\"Day(Eng)\"]\n",
        "\n",
        "Today_day_nufi = \"date introuvable\" if len(nufi_date_series) ==0 else list(nufi_date_series)[0] \n",
        "Today_day_Eng = \"date introuvable\" if len(eng_date_series) ==0 else list(eng_date_series)[0] \n",
        "\n",
        "print(\"Zè'é mɑ́ \" + Today_day_nufi)\n",
        "time.sleep(4)\n",
        "print(\"Yáá mɑ̀ lāhā ?\" )\n",
        "time.sleep(4)\n",
        "print(\"Zēn zǎ mɑ́ Shck Ca᷅mnà' (Tchamna)\" )\n",
        "\n",
        "\n"
      ],
      "metadata": {
        "colab": {
          "base_uri": "https://localhost:8080/"
        },
        "id": "vTG5iOLT2-w8",
        "outputId": "483d84e8-b59d-4f1a-aa97-be8a9311868c"
      },
      "execution_count": 114,
      "outputs": [
        {
          "output_type": "stream",
          "name": "stdout",
          "text": [
            "Zè'é mɑ́ Nthʉ̄'ntāā, līē' 14, Sò'njɑ̀ɑ̀, Ngù' 2023\n",
            "Yáá mɑ̀ lāhā ?\n"
          ]
        }
      ]
    },
    {
      "cell_type": "code",
      "source": [],
      "metadata": {
        "id": "aLZxn0osARVQ"
      },
      "execution_count": 111,
      "outputs": []
    },
    {
      "cell_type": "markdown",
      "source": [
        "# Lǒ' Pɑ̌' yāā : Save as a CSV"
      ],
      "metadata": {
        "id": "kEUAglK5ARqu"
      }
    },
    {
      "cell_type": "code",
      "source": [
        "calendar_history.to_csv(f\"{Language}calendar_history_2023_{End_year}.csv\",encoding= \"utf 8 - sig\")\n"
      ],
      "metadata": {
        "id": "IVRjzqRMnWA1"
      },
      "execution_count": 112,
      "outputs": []
    },
    {
      "cell_type": "code",
      "source": [],
      "metadata": {
        "id": "JKe2uR3qNRsm"
      },
      "execution_count": 112,
      "outputs": []
    }
  ]
}
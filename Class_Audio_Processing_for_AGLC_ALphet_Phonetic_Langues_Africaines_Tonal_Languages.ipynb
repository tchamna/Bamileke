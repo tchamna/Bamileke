{
  "nbformat": 4,
  "nbformat_minor": 0,
  "metadata": {
    "colab": {
      "provenance": [],
      "mount_file_id": "1_7mFirX529u9ETylYNTlTXcVXf6RO6ve",
      "authorship_tag": "ABX9TyM2XXGMYWGiVqo2PRv6yH9N",
      "include_colab_link": true
    },
    "kernelspec": {
      "name": "python3",
      "display_name": "Python 3"
    },
    "language_info": {
      "name": "python"
    }
  },
  "cells": [
    {
      "cell_type": "markdown",
      "metadata": {
        "id": "view-in-github",
        "colab_type": "text"
      },
      "source": [
        "<a href=\"https://colab.research.google.com/github/tchamna/Bamileke/blob/main/Class_Audio_Processing_for_AGLC_ALphet_Phonetic_Langues_Africaines_Tonal_Languages.ipynb\" target=\"_parent\"><img src=\"https://colab.research.google.com/assets/colab-badge.svg\" alt=\"Open In Colab\"/></a>"
      ]
    },
    {
      "cell_type": "code",
      "execution_count": null,
      "metadata": {
        "id": "AOlSn4nqUOV7"
      },
      "outputs": [],
      "source": []
    },
    {
      "cell_type": "markdown",
      "source": [
        "# Install libraries"
      ],
      "metadata": {
        "id": "HRpzmay3Y9dk"
      }
    },
    {
      "cell_type": "code",
      "source": [
        "pip install pydub"
      ],
      "metadata": {
        "id": "Q-liKbl7ZDWk",
        "outputId": "86935560-ba47-43d2-99aa-884b6ba0eb38",
        "colab": {
          "base_uri": "https://localhost:8080/"
        }
      },
      "execution_count": null,
      "outputs": [
        {
          "output_type": "stream",
          "name": "stdout",
          "text": [
            "Looking in indexes: https://pypi.org/simple, https://us-python.pkg.dev/colab-wheels/public/simple/\n",
            "Collecting pydub\n",
            "  Downloading pydub-0.25.1-py2.py3-none-any.whl (32 kB)\n",
            "Installing collected packages: pydub\n",
            "Successfully installed pydub-0.25.1\n"
          ]
        }
      ]
    },
    {
      "cell_type": "markdown",
      "source": [
        "The code defines a function named **get_audio** that takes in three parameters: **audio_path**, **ext** and **check_subfolders**. It imports the necessary modules such as os and glob. The function searches for audio files in a directory specified by the **audio_path** parameter and returns two lists; the first list containing the absolute path of the audio files and the second list containing the relative path of the audio files. The function has an optional parameter **ext** that takes a list of audio file extensions to be searched for, and **check_subfolders** is another optional parameter that specifies whether to search for audio files recursively in subfolders or not."
      ],
      "metadata": {
        "id": "kQwuk7icj9WM"
      }
    },
    {
      "cell_type": "markdown",
      "source": [
        "# get_audio() Functions"
      ],
      "metadata": {
        "id": "7vT8XH9AVfW6"
      }
    },
    {
      "cell_type": "code",
      "source": [
        "\n",
        "# G:\\My Drive\\Resulam\\Alphabet_Camerounais_AGLC_Audio_Files\n",
        "audio_path = \"/content/drive/MyDrive/Resulam/Alphabet_Camerounais_AGLC_Audio_Files/\"\n",
        "\n",
        "\n",
        "\n"
      ],
      "metadata": {
        "id": "qxWPaOrEj8Jc"
      },
      "execution_count": null,
      "outputs": []
    },
    {
      "cell_type": "code",
      "source": [
        "class AGLC:\n",
        "\n",
        "  def __init__(self,audio_path):\n",
        "    self.vow_map = {'à': 'à', 'á': 'á', 'ā': 'ā', 'ǎ': 'ǎ', 'â': 'â', 'è': 'è', 'é': 'é', 'ē': 'ē', 'ě': 'ě', 'ê': 'ê', 'ì': 'ì', 'í': 'í', 'ī': 'ī', 'ǐ': 'ǐ', 'î': 'î', 'ò': 'ò', 'ó': 'ó', 'ō': 'ō', 'ǒ': 'ǒ', 'ô': 'ô', 'ù': 'ù', 'ú': 'ú', 'ū': 'ū', 'ǔ': 'ǔ', 'û': 'û'}\n",
        "    self.audio_path = audio_path\n",
        "    # self.speed = play_speed\n",
        "    # self.input = input\n",
        "  def vowel_mapping(self,s):\n",
        "    output = \"\"\n",
        "    for char in s:\n",
        "        if char in self.vow_map:\n",
        "            output += self.vow_map[char]\n",
        "        else:\n",
        "            output += char\n",
        "    return output\n",
        "\n",
        "\n",
        "  def get_audio_files_dictionary(self,list_of_audio_files_including_extension):\n",
        "\n",
        "    \"\"\"\n",
        "    The function takes a list of audio files including extensions as input: ['a1.mp3','a2.mp3']\n",
        "    It creates:\n",
        "    - a dictionary where the keys are the audio file names without extensions, and the values are\n",
        "    the audio file names including extensions.\n",
        "    - a new dictionary where the keys are combinations of two audio file names separated by a space\n",
        "    and the values are lists of the corresponding audio file names including extensions.\n",
        "    'a1 a2': ['a1.mp3', 'a2.mp3']\n",
        "    The combinations are formed by iterating over the sorted list of audio file names and adding all pairs of\n",
        "    names that come after the current name in the sorted list.\n",
        "    Finally, the function returns the new dictionary.\n",
        "\n",
        "    \"\"\"\n",
        "\n",
        "    import os\n",
        "    list_of_audio_files_including_extension_base = [ os.path.basename(i) for i in list_of_audio_files_including_extension]\n",
        "    audio_files_no_ext = [i.split(\".\")[0] for i in list_of_audio_files_including_extension_base]\n",
        "\n",
        "    audio_files_dict = dict(zip(audio_files_no_ext, list_of_audio_files_including_extension))\n",
        "\n",
        "    new_dict = {}\n",
        "\n",
        "    sorted_list = sorted(list(audio_files_dict))\n",
        "    for i, val in enumerate(sorted_list):\n",
        "      for j in range(i,len(sorted_list)):\n",
        "        val_j = sorted_list[j]\n",
        "        new_dict[f\"{val} {val_j}\"] = [audio_files_dict[val], audio_files_dict[val_j]]\n",
        "    return new_dict\n",
        "\n",
        "\n",
        "\n",
        "  # Define a function to normalize a chunk to a target amplitude.\n",
        "  def match_target_amplitude(self,aChunk, target_dBFS):\n",
        "      ''' Normalize given audio chunk\n",
        "      The code normalizes an audio chunk to a target amplitude level given as `target_dBFS`.\n",
        "      It calculates the change in decibels (dBFS) required to achieve the target amplitude level and applies it to the input audio chunk.'''\n",
        "      change_in_dBFS = target_dBFS - aChunk.dBFS\n",
        "      return aChunk.apply_gain(change_in_dBFS)\n",
        "\n",
        "\n",
        "  def get_audio(self,audio_path, ext = [\"*.mp3\", \"*.wav\", \"*.ogg\", \"*.flac\"],check_subfolders=False):\n",
        "\n",
        "    \"\"\"\n",
        "    The code defines a function named get_audio that takes in three parameters:\n",
        "    audio_path, ext and check_subfolders. It imports the necessary modules such as os and glob.\n",
        "    The function searches for audio files in a directory specified by the audio_path parameter and returns two lists;\n",
        "    the first list containing the absolute path of the audio files and the second list containing the relative path of the audio files.\n",
        "    The function has an optional parameter ext that takes a list of audio file extensions   to be searched for, and check_subfolders\n",
        "    is another optional parameter that specifies whether to search for audio files recursively in subfolders or not.\n",
        "    \"\"\"\n",
        "\n",
        "    import os\n",
        "    import glob\n",
        "\n",
        "    # List of audio file extensions to search for\n",
        "    # AUDIO_EXTENSIONS = ext\n",
        "\n",
        "    # Directory to search for audio files\n",
        "    directory = self.audio_path  # Replace with the path to your directory\n",
        "\n",
        "    if check_subfolders == False:\n",
        "      # Search for audio files using glob\n",
        "      audio_files = []\n",
        "      for extension in ext:\n",
        "          audio_files.extend(glob.glob(directory + \"*\" + extension, recursive=check_subfolders))\n",
        "    else:\n",
        "\n",
        "      # Search for audio files using glob\n",
        "      audio_files = []\n",
        "      for extension in ext:\n",
        "          audio_files.extend(glob.glob(directory + \"/**/\" + extension, recursive=check_subfolders))\n",
        "\n",
        "    audio_base_names = [os.path.basename(i) for i in audio_files]\n",
        "\n",
        "    return audio_files, audio_base_names\n",
        "\n",
        "\n",
        "\n",
        "\n",
        "\n",
        "  # define function to play audio given input string and list of audio files\n",
        "  def play_audio(self,input_string_space_separated, list_of_audio_files_including_extension):\n",
        "      # import required module\n",
        "      from pydub import AudioSegment\n",
        "\n",
        "      # create dictionary of audio files and their corresponding inputs\n",
        "      files = self.get_audio_files_dictionary(list_of_audio_files_including_extension)\n",
        "\n",
        "\n",
        "      # if the input is not in the dictionary, try reversing the input and checking again\n",
        "      if input_string_space_separated not in files:\n",
        "\n",
        "\n",
        "          input_string_space_separated = \" \".join(input_string_space_separated.split()[::-1])\n",
        "          # print(\"...........\",files[input_string_space_separated])\n",
        "          invert_dict = {}\n",
        "          invert_dict[input_string_space_separated] = files[input_string_space_separated][::-1]\n",
        "          files.update(invert_dict)\n",
        "\n",
        "      # create a silent audio segment for a 2 second pause between audio files\n",
        "      silence = AudioSegment.silent(duration=2000)\n",
        "\n",
        "      # get the list of audio files corresponding to the input string\n",
        "      audio_files = files.get(input_string_space_separated)\n",
        "      # print(audio_files)\n",
        "\n",
        "      # raise an error if the input string is invalid\n",
        "      if audio_files is None:\n",
        "          raise ValueError(\"Invalid input string value\")\n",
        "\n",
        "      # create an empty audio segment to add the audio files to\n",
        "      combined_audio = AudioSegment.empty()\n",
        "\n",
        "      # loop through the list of audio files and add each one to the combined audio segment\n",
        "      for filename in audio_files:\n",
        "          audio_segment = AudioSegment.from_file(f\"{filename}\")\n",
        "          combined_audio += audio_segment + silence\n",
        "\n",
        "      # return the combined audio segment\n",
        "      return combined_audio\n",
        "\n",
        "\n",
        "  def play_audio_with_various_space_between_chunks(self,song, min_cut_silence_len = 1.5, silence_padding_duration = 2.5):\n",
        "\n",
        "    \"\"\"\n",
        "    The function takes an audio file and an optional silence duration as input and plays the audio with various spaces between each chunk.\n",
        "    The pydub library is used to split the audio file into chunks where there is silence for a specified duration determined by min_cut_silence_len\n",
        "    and then each chunk is padded with silence of duration silence_padding_duration.\n",
        "    For example, if min_cut_silence_len = 1.5, silence_padding_duration = 2.5\n",
        "    The function then normalizes each chunk and exports them as separate audio files in the mp3 format.\n",
        "    Finally, the function returns the entire audio file with the various spaces between each chunk as an AudioSegment object.\n",
        "\n",
        "    \"\"\"\n",
        "\n",
        "\n",
        "    # Import the AudioSegment class for processing audio and the\n",
        "    # split_on_silence function for separating out silent chunks.\n",
        "    from pydub import AudioSegment\n",
        "    from pydub.silence import split_on_silence\n",
        "    import os\n",
        "\n",
        "\n",
        "    # Load your audio.\n",
        "    # song = AudioSegment.from_mp3(audio_file_path)\n",
        "\n",
        "    # Split track where the silence is 2 seconds or more and get chunks using\n",
        "    # the imported function.\n",
        "    chunks = split_on_silence (\n",
        "        # Use the loaded audio.\n",
        "        song,\n",
        "        # Specify that a silent chunk must be at least 2 seconds or 2000 ms long.\n",
        "        # min_silence_len = 2000,\n",
        "        min_silence_len = int(min_cut_silence_len*1000),\n",
        "        # Consider a chunk silent if it's quieter than -16 dBFS.\n",
        "        # (You may want to adjust this parameter.)\n",
        "        silence_thresh = -40\n",
        "    )\n",
        "    silence_duration = int(silence_padding_duration*1000)\n",
        "\n",
        "    audio_chunk = AudioSegment.silent(duration=1000)\n",
        "    silence_chunk = AudioSegment.silent(duration=silence_duration)\n",
        "\n",
        "    # Process each chunk with your parameters\n",
        "    for i, chunk in enumerate(chunks):\n",
        "        # Create a silence chunk that's 0.5 seconds (or 500 ms) long for padding.\n",
        "\n",
        "        # print(i, len(chunks))\n",
        "        # Add the padding chunk to beginning and end of the entire chunk.\n",
        "\n",
        "        if i < len(chunks)-1:\n",
        "          audio_chunk += chunk + silence_chunk\n",
        "        if i == len(chunks)-1:\n",
        "          audio_chunk += chunk\n",
        "\n",
        "        # Normalize the entire chunk.\n",
        "        normalized_chunk = self.match_target_amplitude(audio_chunk, -20.0)\n",
        "\n",
        "        # Export the audio chunk with new bitrate.\n",
        "        # print(i)\n",
        "        # print(f\"Exporting chunk{i}.mp3.\")\n",
        "\n",
        "        # normalized_chunk.export(\n",
        "        #     # \".//chunk{0}.mp3\".format(i),\n",
        "        #     f\"_part{i}.mp3\",\n",
        "        #     bitrate = \"192k\",\n",
        "        #     format = \"mp3\"\n",
        "        # )\n",
        "    return audio_chunk\n",
        "\n",
        "\n",
        "  def play_audio_combine(self,input, speed = 2):\n",
        "\n",
        "    audio_files = self.get_audio(self.audio_path, ext = [\"*.mp3\", \"*.wav\", \"*.ogg\", \"*.flac\"])\n",
        "\n",
        "    list_of_audio_files_including_extension = audio_files[0]\n",
        "    # get_audio_files_dictionary(list_of_audio_files_including_extension)\n",
        "\n",
        "    in_ = self.vowel_mapping(input)\n",
        "    audio_result = self.play_audio(in_,list_of_audio_files_including_extension)\n",
        "    audio_result_modified = self.play_audio_with_various_space_between_chunks(audio_result, silence_padding_duration = float(speed))\n",
        "\n",
        "    return audio_result_modified\n",
        "\n",
        "\n",
        "\n"
      ],
      "metadata": {
        "id": "uzo9QwsLVOFk"
      },
      "execution_count": null,
      "outputs": []
    },
    {
      "cell_type": "code",
      "source": [
        "audio_path = \"/content/drive/MyDrive/Resulam/Mbú'ŋwɑ̀'nì/Livres Nufi/NtaNufi_Nufi_Attic_LeGrenierDuNufi(Ebook)/Audio_Grenier_Nufi_NtaNufi/PaperBook_Audio_NtaNufi - Copy/\"\n",
        "player = AGLC(audio_path)\n"
      ],
      "metadata": {
        "id": "_NaC2r-tMdaY"
      },
      "execution_count": null,
      "outputs": []
    },
    {
      "cell_type": "code",
      "source": [],
      "metadata": {
        "id": "I2M5tdyy5eQ2"
      },
      "execution_count": null,
      "outputs": []
    },
    {
      "cell_type": "code",
      "source": [
        "from pydub import AudioSegment\n",
        "silent_end = AudioSegment.silent(duration=1000)\n",
        "silent_begin = AudioSegment.silent(duration=3000)\n",
        "\n",
        "audio_files_plus_ext, audio_files = player.get_audio(audio_path, ext = [\"*.mp3\", \"*.wav\", \"*.ogg\", \"*.flac\"],check_subfolders=False)\n",
        "\n",
        "flip_page = [i for i in audio_files_plus_ext if \"0_page_flip\" in i]\n",
        "flip_page_sound = AudioSegment.from_mp3(flip_page[0])\n",
        "\n",
        "\n",
        "# song = AudioSegment.from_mp3(audio_files_plus_ext[0])\n",
        "\n",
        "\n",
        "# song_out = player.play_audio_with_various_space_between_chunks(song, min_cut_silence_len = 1.5, silence_padding_duration = 3)\n",
        "\n",
        "# song_out_plus = song_out+silent_end+flip_page_sound\n",
        "\n",
        "# song_out_plus.export(\n",
        "#             # \".//chunk{0}.mp3\".format(i),\n",
        "#             f\"{audio_path}song_out_plus.mp3\",\n",
        "#             bitrate = \"192k\",\n",
        "#             format = \"mp3\"\n",
        "#         )"
      ],
      "metadata": {
        "id": "EC5w7Z5GgJJk"
      },
      "execution_count": null,
      "outputs": []
    },
    {
      "cell_type": "code",
      "source": [
        "import os\n",
        "for i in range (len(audio_files_plus_ext)):\n",
        "  # i = 1\n",
        "  song_name = os.path.basename(audio_files_plus_ext[i])\n",
        "  print(song_name)\n",
        "  song_name = f\"{audio_path}reworked/p_\"+song_name\n",
        "\n",
        "  song = AudioSegment.from_mp3(audio_files_plus_ext[i])\n",
        "\n",
        "  song_out = player.play_audio_with_various_space_between_chunks(song, min_cut_silence_len = 1.5, silence_padding_duration = 3)\n",
        "\n",
        "  song_out = song_out+silent_end+flip_page_sound\n",
        "\n",
        "  song_out.export(\n",
        "            # \".//chunk{0}.mp3\".format(i),\n",
        "            f\"{song_name}\",\n",
        "            bitrate = \"192k\",\n",
        "            format = \"mp3\"\n",
        "        )"
      ],
      "metadata": {
        "id": "1NcVh4SO60ut"
      },
      "execution_count": null,
      "outputs": []
    },
    {
      "cell_type": "code",
      "source": [
        "import os\n",
        "for i in range (len(audio_files_plus_ext)):\n",
        "  # i = 1\n",
        "  song_name = os.path.basename(audio_files_plus_ext[i])\n",
        "  print(song_name)\n",
        "  song_name = f\"{audio_path}reworked/pp_\"+song_name\n",
        "\n",
        "  song = AudioSegment.from_mp3(audio_files_plus_ext[i])\n",
        "\n",
        "  song_out = song+silent_end+flip_page_sound\n",
        "\n",
        "  song_out.export(\n",
        "            # \".//chunk{0}.mp3\".format(i),\n",
        "            f\"{song_name}\",\n",
        "            bitrate = \"192k\",\n",
        "            format = \"mp3\"\n",
        "        )"
      ],
      "metadata": {
        "colab": {
          "base_uri": "https://localhost:8080/"
        },
        "id": "9es7t06gGNin",
        "outputId": "b5700a03-2b9a-4a6e-d4b3-58dab86c4291"
      },
      "execution_count": null,
      "outputs": [
        {
          "output_type": "stream",
          "name": "stdout",
          "text": [
            "Couverture_ngop_cover.mp3\n",
            "p1.mp3\n",
            "p2.mp3\n",
            "p4.mp3\n",
            "p5.mp3\n",
            "p7.mp3\n",
            "p8.mp3\n",
            "p9_noms_animaux.mp3\n",
            "p9_dialogue.mp3\n",
            "p10.mp3\n",
            "p11.mp3\n",
            "p12.mp3\n",
            "p13.mp3\n",
            "p15.mp3\n",
            "p16.mp3\n",
            "intro_devoir_exercice_Nta_nufi_grenier.mp3\n",
            "intro_devoir_exercice_Nta_nufi_grenier2.mp3\n",
            "p17.mp3\n",
            "p18.mp3\n",
            "p19.mp3\n",
            "p20.mp3\n",
            "p21.mp3\n",
            "p22.mp3\n",
            "p23.mp3\n",
            "p24.mp3\n",
            "p26.mp3\n",
            "p27.mp3\n",
            "p28.mp3\n",
            "p29.mp3\n",
            "p30.mp3\n",
            "p31.mp3\n",
            "p32.mp3\n",
            "p33.mp3\n",
            "p34.mp3\n",
            "p36.mp3\n",
            "p37.mp3\n",
            "p38.mp3\n",
            "p39.mp3\n",
            "p41.mp3\n",
            "p42.mp3\n",
            "p43.mp3\n",
            "p44.mp3\n",
            "p45.mp3\n",
            "p46.mp3\n",
            "p47.mp3\n",
            "p48.mp3\n",
            "p50.mp3\n",
            "p51.mp3\n",
            "p52.mp3\n",
            "p53.mp3\n",
            "p54.mp3\n",
            "p55.mp3\n",
            "p56.mp3\n",
            "p57.mp3\n",
            "p58.mp3\n",
            "p60.mp3\n",
            "intro_devoir_exercice_Nta_nufi_grenier3.mp3\n",
            "p61.mp3\n",
            "p62.mp3\n",
            "p63.mp3\n",
            "p65.mp3\n",
            "p66.mp3\n",
            "p67.mp3\n",
            "p68.mp3\n",
            "p69.mp3\n",
            "p70.mp3\n",
            "p71.mp3\n",
            "p72.mp3\n",
            "p73.mp3\n",
            "p74.mp3\n",
            "p75.mp3\n",
            "p76.mp3\n",
            "p77.mp3\n",
            "p78.mp3\n",
            "p79.mp3\n",
            "p80.mp3\n",
            "p81.mp3\n",
            "p82.mp3\n",
            "p83.mp3\n",
            "p84.mp3\n",
            "p85.mp3\n",
            "p86.mp3\n",
            "p87.mp3\n",
            "p88.mp3\n",
            "p89.mp3\n",
            "p91.mp3\n",
            "p92.mp3\n",
            "p93.mp3\n",
            "p94.mp3\n",
            "p95.mp3\n",
            "p96.mp3\n",
            "p97.mp3\n",
            "p98.mp3\n",
            "p99.mp3\n",
            "p100.mp3\n",
            "p101.mp3\n",
            "p102.mp3\n",
            "p103.mp3\n",
            "p104.mp3\n",
            "p105.mp3\n",
            "p106.mp3\n",
            "p106-2.mp3\n",
            "p108.mp3\n",
            "p109.mp3\n",
            "p110.mp3\n",
            "p111.mp3\n",
            "p112.mp3\n",
            "p113.mp3\n",
            "p115.mp3\n",
            "p116.mp3\n",
            "p117.mp3\n",
            "p118.mp3\n",
            "p119.mp3\n",
            "p120.mp3\n",
            "p121.mp3\n",
            "p122.mp3\n",
            "p123.mp3\n",
            "intro_devoir_exercice_Nta_nufi_grenier4i̧mages.mp3\n",
            "p124.mp3\n",
            "p125.mp3\n",
            "p126.mp3\n",
            "p127.mp3\n",
            "p128.mp3\n",
            "p129.mp3\n",
            "p130.mp3\n",
            "p131.mp3\n",
            "p132.mp3\n",
            "p133.mp3\n",
            "p134.mp3\n",
            "p135.mp3\n",
            "p136.mp3\n",
            "p137.mp3\n",
            "p138.mp3\n",
            "p139.mp3\n",
            "p140.mp3\n",
            "p141.mp3\n",
            "p142.mp3\n",
            "p144.mp3\n",
            "p145.mp3\n",
            "p146.mp3\n",
            "p147.mp3\n",
            "p147-2.mp3\n",
            "p149.mp3\n",
            "p150.mp3\n",
            "p151.mp3\n",
            "0_page_flip.mp3\n",
            "p_p1.mp3\n",
            "song_out_plus.mp3\n"
          ]
        }
      ]
    },
    {
      "cell_type": "code",
      "source": [],
      "metadata": {
        "id": "ojSu5CYwM9Uz"
      },
      "execution_count": null,
      "outputs": []
    },
    {
      "cell_type": "code",
      "source": [
        "import os\n",
        "song = silent_begin\n",
        "for i in range (len(audio_files_plus_ext)):\n",
        "  # i = 1\n",
        "  song_name = os.path.basename(audio_files_plus_ext[i])\n",
        "  print(song_name)\n",
        "  song_name = f\"{audio_path}reworked/pp_\"+song_name\n",
        "\n",
        "  song_i = AudioSegment.from_mp3(audio_files_plus_ext[i])\n",
        "\n",
        "  song += song_i+silent_end+flip_page_sound+silent_begin\n",
        "\n",
        "song_name = f\"{audio_path}reworked/CombineAudio.mp3\"\n",
        "\n",
        "song.export(\n",
        "          # \".//chunk{0}.mp3\".format(i),\n",
        "          song_name,\n",
        "          bitrate = \"192k\",\n",
        "          format = \"mp3\"\n",
        "      );"
      ],
      "metadata": {
        "colab": {
          "base_uri": "https://localhost:8080/"
        },
        "id": "aQ56pvIeGtbc",
        "outputId": "a80d273a-d1de-48e8-f7c7-8d4c3ee3a37d"
      },
      "execution_count": null,
      "outputs": [
        {
          "output_type": "stream",
          "name": "stdout",
          "text": [
            "p142.mp3\n",
            "p144.mp3\n",
            "p145.mp3\n",
            "p146.mp3\n",
            "p147.mp3\n",
            "p147-2.mp3\n",
            "p149.mp3\n",
            "p150.mp3\n",
            "p151.mp3\n",
            "0_page_flip.mp3\n"
          ]
        }
      ]
    },
    {
      "cell_type": "code",
      "source": [
        "\n",
        "song.export(\n",
        "          # \".//chunk{0}.mp3\".format(i),\n",
        "          song_name,\n",
        "          bitrate = \"192k\",\n",
        "          format = \"mp3\"\n",
        "      );"
      ],
      "metadata": {
        "id": "YwJlpF0jM_Sx"
      },
      "execution_count": null,
      "outputs": []
    },
    {
      "cell_type": "code",
      "source": [],
      "metadata": {
        "id": "xjdBztmmGuUT"
      },
      "execution_count": null,
      "outputs": []
    },
    {
      "cell_type": "code",
      "source": [
        "\n",
        "player.play_audio_combine(\"p123 p124\")"
      ],
      "metadata": {
        "id": "mmEpgEn0cGYU"
      },
      "execution_count": null,
      "outputs": []
    },
    {
      "cell_type": "markdown",
      "source": [
        "The *play_audio* function takes in two arguments: a string ***input_string_space_separated*** and a list ***list_of_audio_files_including_extension***.\n",
        "\n",
        "It creates a dictionary that maps pairs of audio files to their corresponding filenames. The function checks if the input string exists in the dictionary and if not, it inverts the order of the string and checks if that exists in the dictionary. If neither exists, it raises a ***ValueError***.\n",
        "\n",
        "The function then retrieves the list of audio files from the dictionary based on the input string. If the input string is invalid, a ***ValueError*** is raised.\n",
        "\n",
        "The function then creates a silent audio segment, and adds each audio file and the silence together to create a combined audio segment, which is returned."
      ],
      "metadata": {
        "id": "70sZcNn_iVoP"
      }
    },
    {
      "cell_type": "code",
      "source": [],
      "metadata": {
        "id": "a9QPyCHRhlkB"
      },
      "execution_count": null,
      "outputs": []
    },
    {
      "cell_type": "code",
      "source": [],
      "metadata": {
        "id": "c1JfAiFTg4sx"
      },
      "execution_count": null,
      "outputs": []
    },
    {
      "cell_type": "markdown",
      "source": [
        "# Main Function"
      ],
      "metadata": {
        "id": "Sz2sZPw7Yxdp"
      }
    },
    {
      "cell_type": "code",
      "source": [],
      "metadata": {
        "id": "TI_N3FPDUVFB"
      },
      "execution_count": null,
      "outputs": []
    },
    {
      "cell_type": "code",
      "source": [],
      "metadata": {
        "id": "dCGjMrLzVIJk"
      },
      "execution_count": null,
      "outputs": []
    },
    {
      "cell_type": "code",
      "source": [
        "\n",
        "# audio_result = play_audio(\"à bā\",list_of_audio_files_including_extension)\n",
        "# audio_result = play_audio(\"à á\",list_of_audio_files_including_extension)\n",
        "\n",
        "# audio_result = play_audio(\"bǎ bá\",list_of_audio_files_including_extension)\n",
        "\n",
        "\n",
        "audio_result"
      ],
      "metadata": {
        "colab": {
          "base_uri": "https://localhost:8080/",
          "height": 131
        },
        "id": "bIIcmqaBY2oj",
        "outputId": "d36e33fa-a09d-4c38-eb2b-f4cd9c413db6"
      },
      "execution_count": null,
      "outputs": [
        {
          "output_type": "stream",
          "name": "stdout",
          "text": [
            "........... ['/content/drive/MyDrive/Resulam/Alphabet_Camerounais_AGLC_Audio_Files/bâ.mp3', '/content/drive/MyDrive/Resulam/Alphabet_Camerounais_AGLC_Audio_Files/bǎ.mp3']\n",
            "['/content/drive/MyDrive/Resulam/Alphabet_Camerounais_AGLC_Audio_Files/bǎ.mp3', '/content/drive/MyDrive/Resulam/Alphabet_Camerounais_AGLC_Audio_Files/bâ.mp3']\n"
          ]
        },
        {
          "output_type": "execute_result",
          "data": {
            "text/plain": [
              "<pydub.audio_segment.AudioSegment at 0x7fb451e17cd0>"
            ],
            "text/html": [
              "\n",
              "                    <audio controls>\n",
              "                        <source src=\"data:audio/mpeg;base64,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\" type=\"audio/mpeg\"/>\n",
              "                        Your browser does not support the audio element.\n",
              "                    </audio>\n",
              "                  "
            ]
          },
          "metadata": {},
          "execution_count": 34
        }
      ]
    },
    {
      "cell_type": "code",
      "source": [
        "audio_result_modified = play_audio_with_various_space_between_chunks(audio_result, silence_duration = .1)\n",
        "audio_result_modified"
      ],
      "metadata": {
        "colab": {
          "base_uri": "https://localhost:8080/",
          "height": 75
        },
        "id": "chQEV-xaexha",
        "outputId": "56b4a8d6-7368-414f-f69e-6f6b870d72f4"
      },
      "execution_count": null,
      "outputs": [
        {
          "output_type": "execute_result",
          "data": {
            "text/plain": [
              "<pydub.audio_segment.AudioSegment at 0x7fb451e16050>"
            ],
            "text/html": [
              "\n",
              "                    <audio controls>\n",
              "                        <source src=\"data:audio/mpeg;base64,SUQzBAAAAAAAI1RTU0UAAAAPAAADTGF2ZjU4LjI5LjEwMAAAAAAAAAAAAAAA//tAwAAAAAAAAAAAAAAAAAAAAAAASW5mbwAAAA8AAABWAABG6gAFCAsOERQXFxodICIlKCgrLjE0Nzo6PUBDRklMTE9SVVhaXV1gY2ZpbG9vcnV4e36BhISHio2QkpWVmJueoaSnp6qtsLO2ubm8v8LFyMrKzdDT1tnc3N/i5ejr7u7x9Pf6/f8AAAAATGF2YzU4LjU0AAAAAAAAAAAAAAAAJAMKAAAAAAAARuqpSI//AAAAAAD/+1DEAAPAAAGkAAAAIAAANIAAAARMQU1FMy4xMDBVVVVVVVVVVVVVVVVVVVVVVVVVVVVVVVVVVVVVVVVVVVVVVVVVVVVVVVVVTEFNRTMuMTAwVVVVVVVVVVVVVVVVVVVVVVVVVVVVVVVVVVVVVVVVVVVVVVVVVVVVVVVVVVVVVVVVVVVVVVVVVVVVVVVVVVVVVVVVVVVVVVVVVVVVVVVVVVVVVVVVVVVVVVVVVVVVVVVVVVVVVVVVVVVVVVVVVVVVVVVVVVVVVVVVVVVVVVVV//tSxF2DwAABpAAAACAAADSAAAAEVVVVVVVVVVVVVVVVVVVVVVVVVVVVVVVVVVVVVVVVVVVVVVVVVVVVVVVVVVVVVVVVVVVVVVVMQU1FMy4xMDBVVVVVVVVVVVVVVVVVVVVVVVVVVVVVVVVVVVVVVVVVVVVVVVVVVVVVVVVVVVVVVVVVVVVVVVVVVVVVVVVVVVVVVVVVVVVVVVVVVVVVVVVVVVVVVVVVVVVVVVVVVVVVVVVVVVVVVVVVVVVVVVVVVVVVVVVVVVVVVVVVVVVVVVX/+1LEoYPAAAGkAAAAIAAANIAAAARVVVVVVVVVVVVVVVVVVVVVVVVVVVVVVVVVVVVVVVVVVVVVVVVVVVVVVVVVVVVVVVVVVVVVVUxBTUUzLjEwMFVVVVVVVVVVVVVVVVVVVVVVVVVVVVVVVVVVVVVVVVVVVVVVVVVVVVVVVVVVVVVVVVVVVVVVVVVVVVVVVVVVVVVVVVVVVVVVVVVVVVVVVVVVVVVVVVVVVVVVVVVVVVVVVVVVVVVVVVVVVVVVVVVVVVVVVVVVVVVVVVVVVVVVVf/7UsShg8AAAaQAAAAgAAA0gAAABFVVVVVVVVVVVVVVVVVVVVVVVVVVVVVVVVVVVVVVVVVVVVVVVVVVVVVVVVVVVVVVVVVVVVVVTEFNRTMuMTAwVVVVVVVVVVVVVVVVVVVVVVVVVVVVVVVVVVVVVVVVVVVVVVVVVVVVVVVVVVVVVVVVVVVVVVVVVVVVVVVVVVVVVVVVVVVVVVVVVVVVVVVVVVVVVVVVVVVVVVVVVVVVVVVVVVVVVVVVVVVVVVVVVVVVVVVVVVVVVVVVVVVVVVVV//tSxKGDwAABpAAAACAAADSAAAAEVVVVVVVVVVVVVVVVVVVVVVVVVVVVVVVVVVVVVVVVVVVVVVVVVVVVVVVVVVVVVVVVVVVVVVVMQU1FMy4xMDBVVVVVVVVVVVVVVVVVVVVVVVVVVVVVVVVVVVVVVVVVVVVVVVVVVVVVVVVVVVVVVVVVVVVVVVVVVVVVVVVVVVVVVVVVVVVVVVVVVVVVVVVVVVVVVVVVVVVVVVVVVVVVVVVVVVVVVVVVVVVVVVVVVVVVVVVVVVVVVVVVVVVVVVX/+1LEoYPAAAGkAAAAIAAANIAAAARVVVVVVVVVVVVVVVVVVVVVVVVVVVVVVVVVVVVVVVVVVVVVVVVVVVVVVVVVVVVVVVVVVVVVVUxBTUUzLjEwMFVVVVVVVVVVVVVVVVVVVVVVVVVVVVVVVVVVVVVVVVVVVVVVVVVVVVVVVVVVVVVVVVVVVVVVVVVVVVVVVVVVVVVVVVVVVVVVVVVVVVVVVVVVVVVVVVVVVVVVVVVVVVVVVVVVVVVVVVVVVVVVVVVVVVVVVVVVVVVVVVVVVVVVVf/7UsShg8AAAaQAAAAgAAA0gAAABFVVVVVVVVVVVVVVVVVVVVVVVVVVVVVVVVVVVVVVVVVVVVVVVVVVVVVVVVVVVVVVVVVVVVVVTEFNRTMuMTAwVVVVVVVVVVVVVVVVVVVVVVVVVVVVVVVVVVVVVVVVVVVVVVVVVVVVVVVVVVVVVVVVVVVVVVVVVVVVVVVVVVVVVVVVVVVVVVVVVVVVVVVVVVVVVVVVVVVVVVVVVVVVVVVVVVVVVVVVVVVVVVVVVVVVVVVVVVVVVVVVVVVVVVVV//tSxKGDwAABpAAAACAAADSAAAAEVVVVVVVVVVVVVVVVVVVVVVVVVVVVVVVVVVVVVVVVVVVVVVVVVVVVVVVVVVVVVVVVVVVVVVVMQU1FMy4xMDBVVVVVVVVVVVVVVVVVVVVVVVVVVVVVVVVVVVVVVVVVVVVVVVVVVVVVVVVVVVVVVVVVVVVVVVVVVVVVVVVVVVVVVVVVVVVVVVVVVVVVVVVVVVVVVVVVVVVVVVVVVVVVVVVVVVVVVVVVVVVVVVVVVVVVVVVVVVVVVVVVVVVVVVX/+1LEoYPAAAGkAAAAIAAANIAAAARVVVVVVVVVVVVVVVVVVVVVVVVVVVVVVVVVVVVVVVVVVVVVVVVVVVVVVVVVVVVVVVVVVVVVVUxBTUUzLjEwMFVVVVVVVVVVVVVVVVVVVVVVVVVVVVVVVVVVVVVVVVVVVVVVVVVVVVVVVVVVVVVVVVVVVVVVVVVVVVVVVVVVVVVVVVVVVVVVVVVVVVVVVVVVVVVVVVVVVVVVVVVVVVVVVVVVVVVVVVVVVVVVVVVVVVVVVVVVVVVVVVVVVVVVVf/7UsShg8AAAaQAAAAgAAA0gAAABFVVVVVVVVVVVVVVVVVVVVVVVVVVVVVVVVVVVVVVVVVVVVVVVVVVVVVVVVVVVVVVVVVVVVVVTEFNRTMuMTAwVVVVVVVVVVVVVVVVVVVVVVVVVVVVVVVVVVVVVVVVVVVVVVVVVVVVVVVVVVVVVVVVVVVVVVVVVVVVVVVVVVVVVVVVVVVVVVVVVVVVVVVVVVVVVVVVVVVVVVVVVVVVVVVVVVVVVVVVVVVVVVVVVVVVVVVVVVVVVVVVVVVVVVVV//tSxKGDwAABpAAAACAAADSAAAAEVVVVVVVVVVVVVVVVVVVVVVVVVVVVVVVVVVVVVVVVVVVVVVVVVVVVVVVVVVVVVVVVVVVVVVVMQU1FMy4xMDBVVVVVVVVVVVVVVVVVVVVVVVVVVVVVVVVVVVVVVVVVVVVVVVVVVVVVVVVVVVVVVVVVVVVVVVVVVVVVVVVVVVVVVVVVVVVVVVVVVVVVVVVVVVVVVVVVVVVVVVVVVVVVVVVVVVVVVVVVVVVVVVVVVVVVVVVVVVVVVVVVVVVVVVX/+1LEoYPAAAGkAAAAIAAANIAAAARVVVVVVVVVVVVVVVVVVVVVVVVVVVVVVVVVVVVVVVVVVVVVVVVVVVVVVVVVVVVVVVVVVVVVVUxBTUUzLjEwMFVVVVVVVVVVVVVVVVVVVVVVVVVVVVVVVVVVVVVVVVVVVVVVVVVVVVVVVVVVVVVVVVVVVVVVVVVVVVVVVVVVVVVVVVVVVVVVVVVVVVVVVVVVVVVVVVVVVVVVVVVVVVVVVVVVVVVVVVVVVVVVVVVVVVVVVVVVVVVVVVVVVVVVVf/7UsShg8AAAaQAAAAgAAA0gAAABFVVVVVVVVVVVVVVVVVVVVVVVVVVVVVVVVVVVVVVVVVVVVVVVVVVVVVVVVVVVVVVVVVVVVVVTEFNRTMuMTAwVVVVVVVVVVVVVVVVVVVVVVVVVVVVVVVVVVVVVVVVVVVVVVVVVVVVVVVVVVVVVVVVVVVVVVVVVVVVVVVVVVVVVVVVVVVVVVVVVVVVVVVVVVVVVVVVVVVVVVVVVVVVVVVVVVVVVVVVVVVVVVVVVVVVVVVVVVVVVVVVVVVVVVVV//tSxKGDwAABpAAAACAAADSAAAAEVVVVVVVVVVVVVVVVVVVVVVVVVVVVVVVVVVVVVVVVVVVVVVVVVVVVVVVVVVVVVVVVVVVVVVVMQU1FMy4xMDBVVVVVVVVVVVVVVVVVVVVVVVVVVVVVVVVVVVVVVVVVVVVVVVVVVVVVVVVVVVVVVVVVVVVVVVVVVVVVVVVVVVVVVVVVVVVVVVVVVVVVVVVVVVVVVVVVVVVVVVVVVVVVVVVVVVVVVVVVVVVVVVVVVVVVVVVVVVVVVVVVVVVVVVX/+1LEoYPAAAGkAAAAIAAANIAAAARVVVVVVVVVVVVVVVVVVVVVVVVVVVVVVVVVVVVVVVVVVVVVVVVVVVVVVVVVVVVVVVVVVVVVVUxBTUUzLjEwMFVVVVVVVVVVVVVVVVVVVVVVVVVVVVVVVVVVVVVVVVVVVVVVVVVVVVVVVVVVVVVVVVVVVVVVVVVVVVVVVVVVVVVVVVVVVVVVVVVVVVVVVVVVVVVVVVVVVVVVVVVVVVVVVVVVVVVVVVVVVVVVVVVVVVVVVVVVVVVVVVVVVVVVVf/7UsShg8AAAaQAAAAgAAA0gAAABFVVVVVVVVVVVVVVVVVVVVVVVVVVVVVVVVVVVVVVVVVVVVVVVVVVVVVVVVVVVVVVVVVVVVVVTEFNRTMuMTAwVVVVVVVVVVVVVVVVVVVVVVVVVVVVVVVVVVVVVVVVVVVVVVVVVVVVVVVVVVVVVVVVVVVVVVVVVVVVVVVVVVVVVVVVVVVVVVVVVVVVVVVVVVVVVVVVVVVVVVVVVVVVVVVVVVVVVVVVVVVVVVVVVVVVVVVVVVVVVVVVVVVVVVVV//tSxKGDwAABpAAAACAAADSAAAAEVVVVVVVVVVVVVVVVVVVVVVVVVVVVVVVVVVVVVVVVVVVVVVVVVVVVVVVVVVVVVVVVVVVVVVVMQU1FMy4xMDBVVVVVVVVVVVVVVVVVVVVVVVVVVVVVVVVVVVVVVVVVVVVVVVVVVVVVVVVVVVVVVVVVVVVVVVVVVVVVVVVVVVVVVVVVVVVVVVVVVVVVVVVVVVVVVVVVVVVVVVVVVVVVVVVVVVVVVVVVVVVVVVVVVVVVVVVVVVVVVVVVVVVVVVX/+1LEoYPAAAGkAAAAIAAANIAAAARVVVVVVVVVVVVVVVVVVVVVVVVVVVVVVVVVVVVVVVVVVVVVVVVVVVVVVVVVVVVVVVVVVVVVVUxBTUUzLjEwMFVVVVVVVVVVVVVVVVVVVVVVVVVVVVVVVVVVVVVVVVVVVVVVVVVVVVVVVVVVVVVVVVVVVVVVVVVVVVVVVVVVVVVVVVVVVVVVVVVVVVVVVVVVVVVVVVVVVVVVVVVVVVVVVVVVVVVVVVVVVVVVVVVVVVVVVVVVVVVVVVVVVVVVVf/7UsShg8AAAaQAAAAgAAA0gAAABFVVVVVVVVVVVVVVVVVVVVVVVVVVVVVVVVVVVVVVVVVVVVVVVVVVVVVVVVVVVVVVVVVVVVVVTEFNRTMuMTAwVVVVVVVVVVVVVVVVVVVVVVVVVVVVVVVVVVVVVVVVVVVVVVVVVVVVVVVVVVVVVVVVVVVVVVVVVVVVVVVVVVVVVVVVVVVVVVVVVVVVVVVVVVVVVVVVVVVVVVVVVVVVVVVVVVVVVVVVVVVVVVVVVVVVVVVVVVVVVVVVVVVVVVVV//tSxKGDwAABpAAAACAAADSAAAAEVVVVVVVVVVVVVVVVVVVVVVVVVVVVVVVVVVVVVVVVVVVVVVVVVVVVVVVVVVVVVVVVVVVVVVVMQU1FMy4xMDBVVVVVVVVVVVVVVVVVVVVVVVVVVVVVVVVVVVVVVVVVVVVVVVVVVVVVVVVVVVVVVVVVVVVVVVVVVVVVVVVVVVVVVVVVVVVVVVVVVVVVVVVVVVVVVVVVVVVVVVVVVVVVVVVVVVVVVVVVVVVVVVVVVVVVVVVVVVVVVVVVVVVVVVX/+1LEoYPAAAGkAAAAIAAANIAAAARVVVVVVVVVVVVVVVVVVVVVVVVVVVVVVVVVVVVVVVVVVVVVVVVVVVVVVVVVVVVVVVVVVVVVVUxBTUUzLjEwMFVVVVVVVVVVVVVVVVVVVVVVVVVVVVVVVVVVVVVVVVVVVVVVVVVVVVVVVVVVVVVVVVVVVVVVVVVVVVVVVVVVVVVVVVVVVVVVVVVVVVVVVVVVVVVVVVVVVVVVVVVVVVVVVVVVVVVVVVVVVVVVVVVVVVVVVVVVVVVVVVVVVVVVVf/7UsShg8AAAaQAAAAgAAA0gAAABFVVVVVVVVVVVVVVVVVVVVVVVVVVVVVVVVVVVVVVVVVVVVVVVVVVVVVVVVVVVVVVVVVVVVVVTEFNRTMuMTAwVVVVVVVVVVVVVVVVVVVVVVVVVVVVVVVVVVVVVVVVVVVVVVVVVVVVVVVVVVVVVVVVVVVVVVVVVVVVVVVVVVVVVVVVVVVVVVVVVVVVVVVVVVVVVVVVVVVVVVVVVVVVVVVVVVVVVVVVVVVVVVVVVVVVVVVVVVVVVVVVVVVVVVVV//tSxKGDwAABpAAAACAAADSAAAAEVVVVVVVVVVVVVVVVVVVVVVVVVVVVVVVVVVVVVVVVVVVVVVVVVVVVVVVVVVVVVVVVVVVVVVVMQU1FMy4xMDBVVVVVVVVVVVVVVVVVVVVVVVVVVVVVVVVVVVVVVVVVVVVVVVVVVVVVVVVVVVVVVVVVVVVVVVVVVVVVVVVVVVVVVVVVVVVVVVVVVVVVVVVVVVVVVVVVVVVVVVVVVVVVVVVVVVVVVVVVVVVVVVVVVVVVVVVVVVVVVVVVVVVVVVX/+1LEoYPAAAGkAAAAIAAANIAAAARVVVVVVVVVVVVVVVVVVVVVVVVVVVVVVVVVVVVVVVVVVVVVVVVVVVVVVVVVVVVVVVVVVVVVVUxBTUUzLjEwMFVVVVVVVVVVVVVVVVVVVVVVVVVVVVVVVVVVVVVVVVVVVVVVVVVVVVVVVVVVVVVVVVVVVVVVVVVVVVVVVVVVVVVVVVVVVVVVVVVVVVVVVVVVVVVVVVVVVVVVVVVVVVVVVVVVVVVVVVVVVVVVVVVVVVVVVVVVVVVVVVVVVVVVVf/7UsShg8AAAaQAAAAgAAA0gAAABFVVVVVVVVVVVVVVVVVVVVVVVVVVVVVVVVVVVVVVVVVVVVVVVVVVVVVVVVVVVVVVVVVVVVVVTEFNRTMuMTAwVVVVVVVVVVVVVVVVVVVVVVVVVVVVVVVVVVVVVVVVVVVVVVVVVVVVVVVVVVVVVVVVVVVVVVVVVVVVVVVVVVVVVVVVVVVVVVVVVVVVVVVVVVVVVVVVVVVVVVVVVVVVVVVVVVVVVVVVVVVVVVVVVVVVVVVVVVVVVVVVVVVVVVVV//tSxKGDwAABpAAAACAAADSAAAAEVVVVVVVVVVVVVVVVVVVVVVVVVVVVVVVVVVVVVVVVVVVVVVVVVVVVVVVVVVVVVVVVVVVVVVVMQU1FMy4xMDBVVVVVVVVVVVVVVVVVVVVVVVVVVVVVVVVVVVVVVVVVVVVVVVVVVVVVVVVVVVVVVVVVVVVVVVVVVVVVVVVVVVVVVVVVVVVVVVVVVVVVVVVVVVVVVVVVVVVVVVVVVVVVVVVVVVVVVVVVVVVVVVVVVVVVVVVVVVVVVVVVVVVVVVX/+1LEoYPAAAGkAAAAIAAANIAAAARVVVVVVVVVVVVVVVVVVVVVVVVVVVVVVVVVVVVVVVVVVVVVVVVVVVVVVVVVVVVVVVVVVVVVVUxBTUUzLjEwMFVVVVVVVVVVVVVVVVVVVVVVVVVVVVVVVVVVVVVVVVVVVVVVVVVVVVVVVVVVVVVVVVVVVVVVVVVVVVVVVVVVVVVVVVVVVVVVVVVVVVVVVVVVVVVVVVVVVVVVVVVVVVVVVVVVVVVVVVVVVVVVVVVVVVVVVVVVVVVVVVVVVVVVVf/7UsShg8AAAaQAAAAgAAA0gAAABFVVVVVVVVVVVVVVVVVVVVVVVVVVVVVVVVVVVVVVVVVVVVVVVVVVVVVVVVVVVVVVVVVVVVVVTEFNRTMuMTAwVVVVVVVVVVVVVVVVVVVVVVVVVVVVVVVVVVVVVVVVVVVVVVVVVVVVVVVVVVVVVVVVVVVVVVVVVVVVVVVVVVVVVVVVVVVVVVVVVVVVVVVVVVVVVVVVVVVVVVVVVVVVVVVVVVVVVVVVVVVVVVVVVVVVVVVVVVVVVVVVVVVVVVVV//tSxKGDwAABpAAAACAAADSAAAAEVVVVVVVVVVVVVVVVVVVVVVVVVVVVVVVVVVVVVVVVVVVVVVVVVVVVVVVVVVVVVVVVVVVVVVVMQU1FMy4xMDBVVVVVVVVVVVVVVVVVVVVVVVVVVVVVVVVVVVVVVVVVVVVVVVVVVVVVVVVVVVVVVVVVVVVVVVVVVVVVVVVVVVVVVVVVVVVVVVVVVVVVVVVVVVVVVVVVVVVVVVVVVVVVVVVVVVVVVVVVVVVVVVVVVVVVVVVVVVVVVVVVVVVVVVX/+1LEoYPAAAGkAAAAIAAANIAAAARVVVVVVVVVVVVVVVVVVVVVVVVVVVVVVVVVVVVVVVVVVVVVVVVVVVVVVVVVVVVVVVVVVVVVVUxBTUUzLjEwMFVVVVVVVVVVVVVVVVVVVVVVVVVVVVVVVVVVVVVVVVVVVVVVVVVVVVVVVVVVVVVVVVVVVVVVVVVVVVVVVVVVVVVVVVVVVVVVVVVVVVVVVVVVVVVVVVVVVVVVVVVVVVVVVVVVVVVVVVVVVVVVVVVVVVVVVVVVVVVVVVVVVVVVVf/7UsShg8AAAaQAAAAgAAA0gAAABFVVVVVVVVVVVVVVVVVVVVVVVVVVVVVVVVVVVVVVVVVVVVVVVVVVVVVVVVVVVVVVVVVVVVVVTEFNRTMuMTAwVVVVVVVVVVVVVVVVVVVVVVVVVVVVVVVVVVVVVVVVVVVVVVVVVVVVVVVVVVVVVVVVVVVVVVVVVVVVVVVVVVVVVVVVVVVVVVVVVVVVVVVVVVVVVVVVVVVVVVVVVVVVVVVVVVVVVVVVVVVVVVVVVVVVVVVVVVVVVVVVVVVVVVVV//tSxKGDwAABpAAAACAAADSAAAAEVVVVVVVVVVVVVVVVVVVVVVVVVVVVVVVVVVVVVVVVVVVVVVVVVVVVVVVVVVVVVVVVVVVVVVVMQU1FMy4xMDBVVVVVVVVVVVVVVVVVVVVVVVVVVVVVVVVVVVVVVVVVVVVVVVVVVVVVVVVVVVVVVVVVVVVVVVVVVVVVVVVVVVVVVVVVVVVVVVVVVVVVVVVVVVVVVVVVVVVVVVVVVVVVVVVVVVVVVVVVVVVVVVVVVVVVVVVVVVVVVVVVVVVVVVX/+1LEoYPAAAGkAAAAIAAANIAAAARVVVVVVVVVVVVVVVVVVVVVVVVVVVVVVVVVVVVVVVVVVVVVVVVVVVVVVVVVVVVVVVVVVVVVVUxBTUUzLjEwMFVVVVVVVVVVVVVVVVVVVVVVVVVVVVVVVVVVVVVVVVVVVVVVVVVVVVVVVVVVVVVVVVVVVVVVVVVVVVVVVVVVVVVVVVVVVVVVVVVVVVVVVVVVVVVVVVVVVVVVVVVVVVVVVVVVVVVVVVVVVVVVVVVVVVVVVVVVVVVVVVVVVVVVVf/7UsShg8AAAaQAAAAgAAA0gAAABFVVVVVVVVVVVVVVVVVVVVVVVVVVVVVVVVVVVVVVVVVVVVVVVVVVVVVVVVVVVVVVVVVVVVVVTEFNRTMuMTAwVVVVVVVVVVVVVVVVVVVVVVVVVVVVVVVVVVVVVVVVVVVVVVVVVVVVVVVVVVVVVVVVVVVVVVVVVVVVVVVVVVVVVVVVVVVVVVVVVVVVVVVVVVVVVVVVVVVVVVVVVVVVVVVVVVVVVVVVVVVVVVVVVVVVVVVVVVVVVVVVVVVVVVVV//tSxKGDwAABpAAAACAAADSAAAAEVVVVVVVVVVVVVVVVVVVVVVVVVVVVVVVVVVVVVVVVVVVVVVVVVVVVVVVVVVVVVVVVVVVVVVVMQU1FMy4xMDBVVVVVVVVVVVVVVVVVVVVVVVVVVVVVVVVVVVVVVVVVVVVVVVVVVVVVVVVVVVVVVVVVVVVVVVVVVVVVVVVVVVVVVVVVVVVVVVVVVVVVVVVVVVVVVVVVVVVVVVVVVVVVVVVVVVVVVVVVVVVVVVVVVVVVVVVVVVVVVVVVVVVVVVX/+1LEoYPAAAGkAAAAIAAANIAAAARVVVVVVVVVVVVVVVVVVVVVVVVVVVVVVVVVVVVVVVVVVVVVVVVVVVVVVVVVVVVVVVVVVVVVVQiBvoMYAGQORShfgqxMzgay3i3kvYiCC4HBGeMCsZKsavj3v8f+93mob+PiA8VivnYEMUEFPoedZ0RT/J2ZcIvhOC4HXGOQgg/GEb4h5L0ZKc5OzLbi2E4QjdHjyJl+/j/N779KUv6Up73vr3vf0p8f//+l/ilPe////+bvNQ2N/h4rGRn2wP/7UsShg8AAAaQAAAAgAAA0gAAABKxkqxq9niZhv4+HjyI0QiMKCAAB+LgsBTnV+/cYMX9/t8+2URATi5Rceoz6McUgQZ8cd5HDoWc/8jMH3EhcaNUC/yITyqg5A8Hv+ex90IVziNkMJ///IRiRyqarjxzf//D5yOjdX6iZBM7sQ5DmEQAJAgAAAZpYkar53J6guSiWchuG5mrPyw8zYZIDpE27+oDKlNtmzCNaCyEyaa79jsIiitjIhjJP9jXFUVpRg9u5vTfH07HRpyfj4ImZ//tSxKGDwAABpAAAACAAADSAAAAE+e3Ftdbxkij4NzlCGs2l4rwaSlc27RtoXyTnFpN0VN8GYpIUozbYUhlz1eUn5d4ytFuEsZbc3Uk8k3NdfYLqrwWgA0h0IpkWIiL0MORDiEQEKUOO5AcaElLHFom5AskkiCnMVZqvpiVZsniSegKgKaMBcRLw2i3e9LLJPZRcSY/QUjhxAxT0ccls3jXdmp4Ro2c6Sai1WCEv3sGIESCDQnbpR5DF+7SkgRlC2UpId4In7hJOYRKST0wEJqL/+1LE/4AShVZoNPeAAYeyo9seUABMY+ctZ5M5B0VIEumqFQMAAIutjPMmigs41M/qAaCYnCgLGUJDTRyK7aPzYN2lir1ljc1KBKA7u6qtNmRWKbCq8kSHVCZVHH3aaLw8Z6gWdDZyX8GSbWpXlzajKLpELGpquemcWjewrpLoWoVTyJed7B6jRpOU5tOMu8kDRmUoM2k1hOggiAm0ZIiJ2um5ZCKZ2Zklg4jXbmeZQGLQmIP1OAVnWVAjWQVkppRoR3CkbaYqWELLciyIskai3v/7UsTiglG5iRc9hIAKIjHi1PSYUKq8TLTw9JjJTQawll3XUkgraWjFRXdkwvC4wrTCZN2ldgjucyYh5IsbIp9KcMi3OU4QjkZWiPRJnqstJidrqrtIEnxPQgmdSLQMpQgmRs6wfj0oB5tC35l0COaZCcZLqEZlVPCsCdboDKU0Lc4okyqD6vBaDMUCAAPwNXCl5E8tSEE4aKDBkkKpaJIpE5uapmKcUJiMYEesxj2BSCUmpRtutWn4yUdFDFN6GRLdSchQG/cpVP6++uq5UlpZ//tSxLUC0mWPFKw9IAJCseKBkyRQOZLDo0npJpTy5NrJv3sofq9usVm/03prqPQJIlLe09zSo0ak+w8ueuc1T6xw7yXyxMk0gHmVRw+fWLsEKCyixIhqECOTC5RXFgSgZDHeLKgJ9TVJWk8gIkC/J6MtciTE5CtQ7Myug2bKJYsRERQ8Jl22z1JoIqtJRzXzwRzehOXajvuxTWu6NQUI0Jl+3Cnv2O1MnzUDJ1DBpF2BKqsstFEy+FkjMsXUlGqPnBUrSOZ50l6Yamr5nKWXPL//+1LEgQLSUYcUrDEgykUxYoGDJFk/01yBa5sI5nmFppN5a4bFCRK9IXiyZbjTa7FtGUS5Y/GVOsCJo4TjUd0exICQhVFZipNlkKk1VLRkiDSJJ7SOTNOZvTaBVddo/jeuSeZJMog7Mre2mu3GZuZB4oXWulaFy711M6CeFJu1ZSJ1nGIWxkmEOoWpEGIjiEiGW08wxA9KhUjWRzVQYhUdGjqY3yKPbQ634kS04BdNcsMi7Mz8zVTXbULya9ELG43pVjW2CrqguwUC+w7IXRJT7//7UsRNA9JJixIMPSCKPzFigYWkAWtD6BFpMw4DjZ7GlRdUUEJedWJkRJKRO5ZV7xKuqaijInZ2oNJt9Vm3avr7MxxNErI4uhTmpSuq57fI+lFdhJNXJSf0bEHU9g5GM24EK0kdpkkUzyCoDk/4kj/MnI05QpchJXp7CN49CWilKcZliGoPmcmhQwc0aWQoWoTte1Nmusg6uojElAw8jUYwwKkYZCj5KRkLTbLJ1gGRNElLUz4cYIoWTWRNPJIROm3Q3C3SznJljEVOtLT92mdi//tSxBoAUAGLFgykwElwmuQg8woZ3PaqdA2a5SRNnxz/us77TvjuYONJGFyqtrF0tIijrvhWp9q3tWrtFi9Alnom4CqR1Z1GV1AMhYdFeyYOm/Blp0xBfQxjd+zh56bFFxdt3qBEKdOwoekXX2f4c1NbzbVb5geouS0Kquju16dpinXj5VfcIXUqMnSEZJJQT91stVfZr3ujL6g8OO5UBkNkbhzHJv+fRgT8l4/e5VBy6poyxgxLS9C3HE4Sqiqm2qUAAFJPJaUceKs4kT3TXXL/+1LECYBMBW8hJ5hjiYieJGT0jPk9CEicCoSh7JQaTPVh6LeBjKMxJOq0NO+xuU/qbEdwXkxTvwz36REdPON/lpw4dNyydc935yEXkc0XTn8yQZNGJq6vN6nmUwbSWdsyzA0X79QDWUM0j+LDrUWtVUI9ISkUZhEu3J0Xa2L9ZtJzoDHthKMCP5CChAYGODAmKMH7M75f6Ne26rOeX6/JCOa06xGH3MHoKvrtcS34I9IevxslZ++KVyaAIGL3H3WpUCD8Kg5TJGp3UggDt4dROP/7UsQGAAukgyeHpGOBbJXkZPYMMRGPgShjPRtyHLQMvjiJQdDhTd8OpkTg2FNIADjlkZ0nAhQGXiczEvVLrY0IuqUGQQe45fSAjsC3G8l0KRKEBWMpes0MTiKHByCqSgMExxMVApc3tYqgAP88wfSnJ/0f2bdR1LDkOLHBIQqBgrQaoINCa8pw7Bm1OdMzBGsPM8/KF/ShaczG7TI3du9hD9mv8z+/ClMM/eXqVE/Of9rlvhcbFQD0e3vpbjg07/bqB06GoBARpBciJ5Vn4eVB//tSxAeADCVpHwwsZ4lwEOV1kwyw+uLEy47vK2PMUe5LIvv8S0qdBrDUMEI7EuetsTBFK8ybXp7+Uz3N5HTLlhtN3KEZ+52fywi8z3X/dS2j2E7aHdcLnvyvG/7u1fShJpYLfU3zeYDtdtracbSBdIKLE4rVDMIdQ1McDVyCFHWLMHBIOFWycPRvMHeNFQslOaIW4Q7GBBwhOrDnHB5AjYyRPCUY08I22ijT84PnKyJZLw7NQro3LrXb0i7SJyFkyr1X1QEm621LygOUMXDXAAL/+1LEBoAL6HUljTxlQXAKpLGmDLCODCheItGpkUEdWSGKZw6HygeQ22Gqu3DZFNSdFD0XAzCpleN6kgoQh4SDgfJockqbzVvMpcZOiMsJaBmHT1pfc48E7ah+FHw6mNWKPUcS3MmbwAlAUirKAFyQcuFzpg1sOofqg5qTyoZptE6pP485JZbkT+7EIkJic6kFh0sIkKjgSCY9KlnwAKi0UaGEkFIONvSxLTG1F5xrE30qPuFdIykS7mC4GUx7YmzDA1vVABbIqMRSQACYpisKEP/7UsQGgAvcZSetsMUBeQ3pNPYZTloQSLfSUuHzw3KR0UvEdgoSLGmQhZRnj1qGF0ji2lLGt//awZIKCdBRgUWLNMgWaGhsLwFEVTFlhdTaeaSvdzDg2OCanZl52t40sDwd3lBDFNIL30m1ssbRK5ATHL88L6hJeBTiKIw4r+IiQP7hYUFPMhBMvELTeLjYdVHJnZ8Rx4eenQMERgJit6CcREQgVDyTtSRBYEXtGh8ShBYV7wlYb5qrasFj6G+p9DB6rhyFqgA3mGSXjbfRkyaB//tQxAWAC6CbO+wkZeF0lKf9N4w8BEWkqaZqQXBgfNCNl5YdA4edbLJteST9g2vmSEZR+goMoZFIvI8rXekbkDPc2e5gjIByL6UTLgdWJzTy45YHU5f1ps/qXRXQhDbyICLGxM4LEAB6iYaXff/2NSCcEYPo5y2FG4IuQ6FpUohlPasaSs7EtYgsFERJ3LC6Ulow/2GkQEWuxNTn0CBtGJR0oMN8VQuBWAR4ZUVaCcXFTc5vQ7IIS77NbLJ5CSplQnFaB1UACLPABgSbfFjVif/7UsQFgAtQaSMNpGWBSwtnPYYMrJMbq5TYAU2GNV4Emog7E8IHopN41FQ3znsSpSFkOfS7jDw2ECouNae5K5JwadMsefVXD7J1wbesgNscZLXFqnT6nun1AY4htkLpskYuosFgBHaGV4jXWNEOyBOsHQqeZVgpRoNh+XuFVDGT8SpyJ6qIrVq3a8MocEMYwkWfABsaSDwu4ECBgIj2rt8cgnFR1S+5bdmla0//Z8JYs0a8msRtQ9UK7a7fWWNohyDsMYPAZgvSyZkovn0cRohA//tSxAyACgxLS6ekaTFKEKe89gx0wqw3FKipwgkTGcs5iAdHBQLB04WDrFGWm0hp0cIVjH1NKi7XEoaBnau4N7t+/t//5IdMjmvUkYAHEsy1UfbWxGOgWxNCFkKEFrDcxzrl/DXol0fNhhlrLRAnsHcii6mrXLtH6ch5e2DZYkm8aoAgRhcLPe+J2kDMg0ixi8zb3D/+9H3qe2pagIcUALaShkzYiIA0LS4XGWPVFvmhIJbFg+2KDQB2nEUFozyrki1Juxs2aEYx7AYLUqFVEHH/+1LEGQAKlEEpjeEgQUuQaHT2DO5BaXQYxORY8TOWIPMdrxVJ6EXyDf2E19imtz4oxg5xVeJw0S7bLdW5EiArAQAshytJenIpByLZGSrDotrBnSq8xqSLctapR75EarMgeZYmZMpsjxe3osciwyTsGuPWLh6x5F4Lkoo5f6fMV9djb6t5GvQExtS6Cn2u/1ttjSkAsmw7GA2l0pXNXpPN4J5TOUEfNkiFRrOjMZnz4x0+t3PVP87W77vuWz+nOwOiEXeVCdKyCDDAk8Ho0X93+//7UsQjAAqUi1G08wAyaDIptx7QA7Wd387+62IVHTZ0EjoiSANLIpbrNrtLXbLXJJGSeKS1LiLPBdFGbTErRfG7lEpdvON0EIUgT8mEE1M6BgDvJhTMzpKoHjU+NgXcbxyGhcMCkdJM+eNHKQ9DML4P6dHrNL3JczMiUMjynU6l0G00EBzkEc5gUiUOqSd3qUjZloalFhfcpkw0MES/1ff32VuXT5cMiURPLnzB9B0/+m6t/b2YzdNTIMbrSLUAEBgUmgUK1UCqUqs2pTNoqYJY//tSxAmADIh7UbmEgAFzLGu3nnAFQi4WQjk6qF4XQTXfV+m6Q6563gQRhlYAhIMAwqjC7TguDftv3rHbFDoepS3IfFp3+uzeQScaGAXS9KmThVBd6TpbrfjhR2lmK26iHWn9Sf36GAAyIgDUYndEVywe0Q2FcOYPCkbFRZh2s8/AmASwjz5NDComUurq6SjW7tHE/21czYoaeWSUmOjJtRW/3/+c95/Xc7/SY1jLP+a/7WmrOO/Z7HGMPGQAsm53h9/wgEAiIm5feNzXScxpVhz/+1LEBwAMGIlS7DBOwXglLHTDFhzw0KZTeMqvOFkyasXXwZvo/j1HaITx1KpH6On3UOrS2izDW/VHVnHGkDiENE3kDosDDJCwGvjhc+oUIElKQlcCJB5rmnHv93rUIjzItrIhvbWKrkRQhsBmaze2CaMGyhCpGkKCqaQqBr1KrJBZcLaJcaZ3c3QL1G3BZ3OioAQVFv/VhVMqWILuUhmd1tcXuh++hf/fZ7iyWa6U/pNdkZ2/GoIlQ8/uzAxRprVrIKV/YImNABBgEQmJy8qStf/7UsQFgAu5FV2nsKtheCTtMPQV5qy0a3R6lpBFA2qBN5OqC4GD6DaPPz9mFGXto7LyPo1gkLsOv/odSI6LDFS0dS+V1///9LEFHEnHqt3fX3vO5DCbhKcC5kMvf84KrKCkT6rggrUuxMlEIrLLccGSDwdG1UtESYkAiarFUZBYG4KcZW0N1IogjVdJtxTU4sAw5W/5kZ3uYJjxUVIgmpRrcv//7fZXQhRxWKdWX/a1CTmRE3QQjGEPijhrpskYADvDt7LmJbQ1ECATAppVq5Cy//tSxAWAC2yNY+ekaqF+Lizk9hR+4jaSB4wC4lkiWol9y8w/xlsVsWwAooheOwcONSmUCaBXAgBUL//4TAmveCgSh4VefKWWO0eLihwAgFrq/JiyGyQNmp0JsXx1EDAZ48IHGI3/YyyMKr89BaW4GdgWHwaozEI1oFD1YnMHSblVGs3VkE48WOauxBxBWDEHt/+16QkQSYyMRiTHt//9X/O7IzllpT37rsQp3K7IaayN1dP90eYiZVKRWE1E3YeNCqMXdijO4lgIpNvxzc7i97H/+1LEBgALMW9jp6xPKXwcK3WDChBowYaAI04L5LFko5V1ATAMU3PVn99qUaLo8nttp0kcUEMJ/2U7EKZpWMQNdotA0zs/VKdv6/7nM7I8tP/1bVveVj03//pK+zJeyg6Dqd6cAAAACD211RP9r2lYpYo+5sFESHEUrzgGB4Cjc+n7blWrQyvG6MgPZtz4VQxAIZjf/YmZChQTnM7OOzGtyfp/o7fQwkSfaEExQqvALCKEreG9v13jagwgEB3scxJW+smiCAQCCrMJeRqRQULOfP/7UsQHgAo04WWHlFExJhHs9MEOIsQ7yhwhDuqC6W2TDGMI0RpRkBLPaViOIMcHfvP7pr5WAKVRjTNf///+piRgUGCupj0YoTT3vb+JQIBAOkRhFwfOu2RJAAAghJuSRaKgb2BxGyIjIJODk5ptp4+uFnXcM1+aGDuZ8yzEMGG/5+yblT4Dg6BcNNn//0MLjOguNu4q9zTYUv/EohMruabKVckwkSQQk5bK3N6Y0e1OT3BmmKhxC2cfMdiMdQLlwqERk3quBO5PfYlkown79ujI//tSxBeACkSNa6eMUNFEkey08w4SpJiiQgZNie8qa/+tIlBMqbFRABCY4LFl64nwGK/97A4UcbbUgAQAAEVHJHidKPJhHXhITJkFpMwnnDVlSekMqw71X+OZiI/axs3KjUBFhlP7PKHJTubFHFDkoYsVh67/9z8JnxDNv1BMLCBpdAvPfrCbEsrV0ZRRCJDTslrWzD0JawjWDuPqKEPWHZhOAo8HCwjI5x9zem7x+PHsUkzQpPcju9sjlR8jo2nR8XfT0v//3wjwAhH9N1TnCNH/+1LEI4AJ8ONrp5hNEUKU7DzzDhjpizjggQY/ppsyUAIAACGr7eDnN4onmS2kvLoSdgFlAiIQukJkRRloaW2lhyEt+lhpyJGo/o2qPqhGfk9t/uKYi0xaM1SNwZPgWzPf7AUaxPv7VurYS7PVECrOoAgEArKhzIkqjhM4P4xl2iTDUbEXVC0OZ6Lx4Q5YgdwZztUOF7naGB2Uv3+Ujv/MuTQAyaoiVzz2W3///pMYaNJHDC6jjLopKK/lG47rxhAslJppOGMsYVQWKFl1GoGSUf/7UsQxAAnA52eHjFGxThGuNPSY1hMF1AnzQwQDEn0aIf93cpCf+XCpmfn7zsQ0YhUVJWg9YnNc0DlVgMyBSin/+W3u2ZAIciD7w4NL/Ll2XpWMXuqic0AwAjbAEkgOObJmkMZ9FT4IrQlLTx0dLByEk8asubYtbKUaK+W3oiIU9W3vKlppdkdytKZ5neiKjyAj9cz///a2x+9vziFMU1JBCA6O+4OMTgQQQAAQApKCnlwNEPGrGzHMKczzUcXowTDDJIBbocrdR5GmQS9T0QGh//tSxD4AClUFY+ewR+FGIKo09ImIqrMeYzylblrR38hnqZjN0v//79pmVaIxG2dgomlgu9WREoudbREqC1XAAAAB1w87XBwgvZrmCahuuY9KROlkfIk9BUfKkKepTiuWnIlQrB6TkfYX2Vi482S2wxCMuVss4TetUju1LbYwVOBqr/1/cRn2azxhYdoo7J4167JYkQDH/aADMPAFCHh20ehKLROiNwrNTE5IA3hRhLe/uc3yO/MY/fc1sXD41YPfVjFqi80uZPCIlYvVy///Kxz/+1LESYAKPKlHJ6RvQT+dqfTDFemi11HVuzNyJm/92NDVBGk7YOksAFOSQCYRW43BSUEo0MyoUccBgUB2ijRgkREBE3s//kL3UWo0KU1bIwGmJOaUYjOKBVIqx1AXGFSoaiWR/88oOp2CrEMfYdEpsS959xDRbALddoABW4KwFlCuEqMAxyShBeKhOSqFdonceWQcuWicdcqoe58ojHhCSNHUc7/+bflXSDB9AuKD6QGe3kLHe12s0sYriV7touyk6rhFUyoJ1OEpkO3vYA0R5v/7UsRWgAnUaUenpGuBSxBodYYgeEvV6Pc1KcL5lONjOhiVuX7QCE8WRSRenbdiu5SnlGnglSnytj1/s7esSOLqCayQjgu88Gw6NGNBr/ocIBza0GkMlXtIWOu1gKowBUFDFiCEJjKoWBsAAAAA4UQAQ0YOKFANV4BjF7jFBECB+XgYFBAYTAKD37WCAoGBN9/nE6IAhnAicrua/7bY13JPw+/zcXk3/6Wm+U5KZA7Mkjcamf//+ORmVya1ZfSHXafeXOz////nXyrWKvyS9GpL//tSxGOACoB9Q7TzAAJelya/N4AA2WzXLocXQIgmAiJ3ziTl5UyHQVIhX+t3gERgyCIqVYe///7QlQAJGM2qrxQESTATamMaUpUMUvN/////M9StqUtDPUxnqXqVqGepgxnKJLMFARLGAjFQaPAqdBkFVB1YNPEv////qDqw1EssTEFNRTMuMTAwqqqqqqqqqqqqqqqqqqqqqqqqqqqqqqqqqqqqqqqqqqqqqqqqqqqqqqqqqqqqqqqqqqqqqqqqqqqqqqqqqqqqqqqqqqqqqqr/+1LES4PI3OauXDEAAAAANIAAAASqqqqqqqqqqqqqqqqqqqqqqqqqqqqqqqqqqqqqqqqqqqqqqqqqqqqqqqqqqqqqqqqqqqqqqv/+GqMBlx//984FDNjP///CBIOAPBEIDMb8TAAsADx/4WPgBXEJg6T/xCALqCmHgC0P/8W8BoYdAHSA3MFm//4nMVuKXSFHEBBof//hjAZ8ZMUGS5OEGFAHv///FgFnjvD1x+GQFAEsRMojN/////m4sYyhEBZBRImQMiahti5CoKUHX//////7UsSGA8AAAaQAAAAgAAA0gAAABP////jjE7k0RCANJtMmSWTOMkAAAAAA5mkzAxZKi1LKGRBECnmYrAy6i7zEhYQOMPA+8OApP1B9YINIfd8QrGKQUtDsK2Kc53xRbl0LkcrmxJ434VC/HQIULqMQIaQRw1b7ZbOoD5aUztSw1b923u/xLvdsapHhXr9/P///x8Vrb29vNj//WPTOv8f5tXWN2ruuK4/1j/W4wYprPQbaMGKC5IyRqUx80wpXsCsAJwitwxtEAKOISwODtuCg//tSxKGDwAABpAAAACAAADSCgAAEVC5uTyzriVnalrPZ7cHcAslB/0OsSBe6tkuOtGzGPHFLtvW2ik5mYsDKqXdXF23DOv5/J7UR/Hb+Guobzn+/Ax9/lADrcaeX18iFMKCn9c2YqqVIKe267fwbxROxcZ3f69TZud6D7uUG+oQm4ptkhEYN9KHC1IxmmRFL5Ef8ruB/MmUKZwFzHYtOFksdCOlrkDHO9SoAXsbaRa3RoNlKgAykOAFjIsNDbdy2AfBfarJG9sOvo60bowpcG3b/+1LE/4ASChECGbmAAoqkpXc48AAhMuecIML3hLPVUHIqtPh6VuEn/NxjTyI140TpmLVKiikAZS9imeT/9IAlpe1ZjTQAqNbO3EiZKHKxUPrKiEYICSIjAJhhdcfpX0JHZnENP8DUhE7JhEiQ2BmUQODiNizonGMkR4ASuwagwDymjTr3i5A247qHRj9EpQA4yY41GkQA+jGzpU1xigMSWQKqi+4RVghuieDCKFyqFF1sZbCbstUD4SbmYhhGrLP8Om1p5e/BBnNMXxv0P3o/c//7UsTEAApYdzG9tAApRZdmtZMN2GqqLV5fVidDUEaz/+3/9wCAAQyVbAutlwhlGKCKtJA61kfL0FOI6bjl/FeMPiUCEDO3sMIz4DgWUc+gjQnhV5gBYc5c/D5RAnIBY4QwsAPP+9W9OxkWYa8fcmlLtOxtSkCrZbZHI2iRDmen3pZsGLDTBEWRKuWVBIMv4a2Cbk6LaT6xzClTjQgUhCAbVUumOoppyt+jKShioFMmRAytoS5JM5D51WsTi53DXe5S1GmrewJw9yxsaQONFkvT//tSxM+ACgSjNa0YboFCDCZ1pgz06IDgOEf7I4p9jDVoM3RWiYKges404chkP1kI+S9cuAcsJIZ5uRvXWcjb2dYjSJMX2aSAkYXbCIIFz4gdvEH/n4fLgSyBl8OLg9ZgYdK35MDUh0OU3EQ0JYirVjGIGBi4IiUOgB/RI6DkAYkUj0RAToVn0HgZnRfYuqLC1hsFqdaKI05Pg21VY3FChS3nwl2m7QC0fZJ43shznMcXVi6WkUPSapMSTsUikhUjrLAxhhEiLGY2gl1Wmkox3///+1LE3QAKHIkzrTBnqUIMp6mkjdDJfKkyWbb8usmDxJ+qTPHP9SmuebDCWM4rej1hxNdQkAAQAAYAMtnk/fZKwRNFkbQYssos/TXlRRSnWQDmq52TvPbmjMjzLcC6S0ymlzdGa+Hfw57avi/bBO1Qy4xdrtQayMGa0TR/3o9XYxRD5RzUb0OdRp4uSrf/zMiNVqGW7dDGLZHNuYxjI71kWMFhVSJHoXAAAAAEABK51TOzkoy8y8SqDAlhfYaFJ6VYHHidkHLHgCf1zXLlmeKwQf/7UsTqABQA52GtPTiyV51pFbem2B3H7KlvvxB6aaJIIoFfKZw/axUI7ra76iHKun6P9smQBFVEK7lOeT+j4gpiFu//6iKBXjPVl+TjtatDpN/Ux53iZdKQkAAgAAIADClKCI9VVgUFcdKmNL1FFT+OdmRs6beUCoCNEsYw4dJdbLzN47PyRVWTanaa8zMCHgYJ6he3UXAXNxcF3I+4MOmzac6iw/N9+q0QSVQVke6e//zJVmYyHqqfkd0Op4ZD1/+ihSKRQKv3jG7Xawk0+5QN//tSxK0ADmGPW+w8rwm2p6t9lgnhl5KAAAAAAAAJqUt63d6FgX0Q7IvNKkKqILezj6BgSo3cwadjkwOClRYxNxr9x8t5MwdbucKuV1MT1hclpQzkAElYhCVaJalc1BqNpEuqCx3C2LMqnIUY5UL///5VczxkzAzy/bs87LS5x2v/6C6o6JeNRlZqLv7K22TLWTEkKYGCAAAAAAAVu6ixzVqamsErO3KDDHhDpZUjIjTYQbFApeo+YYGVuAfwgDv1JFr6nYmpXA0yN2MJwpGZsoL/+1LEmoAPQTlV7KBWwfeyqr2kltFkbatSzzXZ0gaUYasDDARFRPXG6Kdrksqv/1QgMxSUDjjq4jp2XSyHmQrsiK/Tvsr2dRmRT6Mkyo1GMvPv+zqQZfpoIEFRO04BXj3QrQ5wumfgvWE3yFurinoSnACc1dUS0yfaXgvIDDjBreN2p/zbbXKlpaLDEHmLZggutGyppmR+7zUhdK7p///tO/14bUvI/702TDHKhQyGFEmbYScN6qIMrnJ9ZJdSPuqeCuXzzIkHJKqowAAAAAFpSP/7UsR8gQ/JlVnspFaJyLKstPMOKx7UwfcTidgaQDaGOOGOD7L1DRYtTsBQDzKyOVAhHIJVwqjHcLXDTPzueR2fe6+flHTWQ1RYK04/3XbWrtfkDSocm5f6ZEV7KDQdUX/WlNRRCB1UiIHIxfrtcEyDv18qSt8b8w/eCn/jn0mQQCQAgcS81VsNvrDX7bopCMTCllG3dc1/1LsKGtLZbcdqVt4UGRSUC1yIj3GOw3kQ3BMx132UQpvMyTPTnnJ/gjI6X//3SB0qmSXjs///H2Qp//tSxGIADhVHX6eYUZmuK6zxhI3ekvlcj57/P8ytLfxu+YzDwZIA2XK1OqkkVayAAAAAAWU4jyZAqEE3i5RiYHmwizBkrxLXraXJThqGluggIeaKSBgj4sgBa8OaVaS8yZ6mCXuwkAm9Lq3dL191f/9d9pN3dv3yURDFYYyWDzSCIydVr4wWiMxEYsLNblqSQI3Io1ejud6zBFunLoAMq0l9VOeUhQqXpuAbUXly5IrNwDSBwFcnd6XM+/laI96WHAIaQbzBtqXvDpX8UFhCFhP/+1LEUYGMGR1hp4xQ0V6RrHTzDhI5HFxcs8kRUeSLFck0u9Q73gmhfb0KgzIhIQMgEE0nAwi4Jrm7Ku5n5vtiaaTvQ5+3NLg+xYMKMe2Gxnes1O96AhQAlOX9/cocodBISiU7Gf/vPnxM4r7YsRSHcsJxO8ksmn+Djevta0vI0giEgAS0VNmAeKnJtdkXA5XM+Lc/nCCp3oIlnTashqiHY97zUtDUb95UcpF7AlvZJ3viys7X0///ksCr/5R+XIjhgIGjlp/8TKTc+qphJayiKv/7UsRTAApkj3PnjFDxSJzt9PMJ1pEgCQSQUrZK5imKQKoyuiFTQdhSnbJ2nhWEk7VbworSqyQw4J7a1V4UgUQX+uz1oyQVKMTlYERZUHliffpQVWRFfkz8KDxViktJEDxKR/s/v07YUgAAgACZZKbgScKVxa4OqEqBoqIuRMkGBiEqQSC+ZDEdG6kWpwzgV//VEXR0c21HuZHZJvN/t/3SGAVn0RcNleRCYid/+DILGTosAdz6KjAICAAK331zvWTfOhFohjQ92KU4Fb1sZ6KX//tSxF4AClCxa6ewQdE4HKy0wwlSEvbiaJpsbATEtM5+zaxhTzvraLnAwFw0UUCYaAYZPPc+78DAnZVzIrSQ1QaFAcFI5X9kCorYNY/EhgIKcmEIM0sacMBTMZQhsQxYGaUER14SjIwPi8fMxM99urU6PkqnKlmlU01SjPb+rIW1RxGDrEiVRJwU//WrS3W5L4ick0w2QLWNfHihNVUXIpgQj57GhTg60iXImrkfrMjQnNBiP0SxaRTB+HjdfDbMvDd5l7tmuzMgOMGI9jrKjVr/+1LEa4AKTGNZp7BqgUMRaaj2CPgL3IqUrKMOjuV2ZDN/36/r7newnclq30zFW1oTSLkA7AAAwCUalAyC2lIogvCoyHgOTAFQ9IolpyQpJ6InJvP2HH2SYSOoMah3ZFVECx8gsRvy6SKvkINYUKUmq0LYya5UT//0dSm8/+hVLjAj9x4X/c8tRFINDTIkg1hAlU9RgHRGZBErMGRbP3fLKTv6yysEtRjBwlrkOzaDhBQkodkT6K5JksBFlUhgz2/cjs196f7151YBY4oar+n1CP/7UsR3gAow7UuHsKmhTiKodPYUePAbncttZ2oL3RZEKlSQuS9sA/SmVB0l5P5eQtxT5pP1plNJlWndyaAGWza87shy0hVImM4JUOzl/n/bYkuLBkRDrEjxGdMhEyMXX7WWHaaJmtRIiMiym1fUR2hVZEVS1LI2AlHUWCOWAlBYml1OKjchDmHqACjIwKyj3s41c3at//FVA0mw26aSPwV/w79JdqVTWH9XpNfUM4LCXEjzvy2YeV6g8ud0r0uO39AJ2AUUi0YeRon8mVO4TyN6//tSxIMACikPT4ewRbFGkSgw8w4UwhRBRzFQZZ4ocBoJPhpVoki0EjbRJGxeScVaJxJ9gwkFURn/60u/1MdxVLR5L8BC3/+x3jEVTEFNRTMuMTAwVVVVVVVVVVVVVVVVVVVVVVVVVVVVVVVVVVVVVVVVVVVVVVVVVVVVVVVVVVVVVVVVVVVVVVVVVVVVVVVVVVVVVVVVVVVVVVVVVVVVVVVVVVVVVVVVVVVVVVVVVVVVVVVVVVVVVVVVVVVVVVVVVVVVVVVVVVVVVVVVVVVVVVX/+1LEj4AKXK1H5iRtYRYMYoRnmDhVVVVVVVVVVVVVVVVVVVVVVVVVVVVVVVVVVVVVVVVVVVVVVVVVVVVVVVVVVVVVVVVVVVVVVVVVVVVVVVVVVVVVVVVVVVVVVVVVVVVVVVVVVVVVVVVVVVVVVVVVVVVVVVVVVVVVVVVVVVVVVVVVVVVVVVVVVVVVVVVVVVVVVVVVVVVVVVVVVVVVVVVVVVVVVVVVVVVVVVVVVVVVVVVVVVVVVVVVVVVVVVVVVVVVVVVVVVVVVVVVVVVVVVVVVQ==\" type=\"audio/mpeg\"/>\n",
              "                        Your browser does not support the audio element.\n",
              "                    </audio>\n",
              "                  "
            ]
          },
          "metadata": {},
          "execution_count": 37
        }
      ]
    },
    {
      "cell_type": "code",
      "source": [],
      "metadata": {
        "id": "lW7egqTrL6by"
      },
      "execution_count": null,
      "outputs": []
    },
    {
      "cell_type": "code",
      "source": [
        "def main_func(input_string, speed = 1,files_=list_of_audio_files_including_extension):\n",
        "  audio_result = play_audio(input_string,files_)\n",
        "\n",
        "\n",
        "  audio_result_modified = play_audio_with_various_space_between_chunks(audio_result, silence_duration = float(speed))\n",
        "  return audio_result_modified\n",
        "\n",
        "main_func(\"ǎ bà\")"
      ],
      "metadata": {
        "id": "6y9fgMSDY6LW"
      },
      "execution_count": null,
      "outputs": []
    },
    {
      "cell_type": "markdown",
      "source": [
        "# Build Interface With Gradio"
      ],
      "metadata": {
        "id": "j_O2b61y5o0q"
      }
    },
    {
      "cell_type": "code",
      "source": [
        "# pip install gradio\n"
      ],
      "metadata": {
        "id": "J76xUM3c5sta"
      },
      "execution_count": null,
      "outputs": []
    },
    {
      "cell_type": "code",
      "source": [
        "# def test(x,y):\n",
        "#   x = float(x)\n",
        "#   y = float(y)\n",
        "#   return x*y\n",
        "\n",
        "\n",
        "# import gradio as gr\n",
        "\n",
        "\n",
        "\n",
        "# iface = gr.Interface(fn=test,\n",
        "#                      inputs=[gr.Textbox(label=\"words: Example: ǎ bà\"),\n",
        "#                              gr.Textbox(value=1, label=\"Duration in seconds\"),\n",
        "#                             ],\n",
        "#                      outputs=\"label\",\n",
        "#                      title=\"AGLC\")\n",
        "\n",
        "# iface.launch(share=True,debug=True)"
      ],
      "metadata": {
        "id": "fkRl0Lj2NTE8"
      },
      "execution_count": null,
      "outputs": []
    },
    {
      "cell_type": "code",
      "source": [
        "import gradio as gr\n",
        "\n",
        "\n",
        "\n",
        "iface = gr.Interface(fn=main_func,\n",
        "                     inputs=[gr.Textbox(label=\"words: Example: ǎ bà\"),\n",
        "                             gr.Textbox(value=1, label=\"Duration in seconds\"),\n",
        "                             gr.Textbox(label=\"Path\")],\n",
        "                     outputs=\"audio\",\n",
        "                     title=\"AGLC\")\n",
        "\n",
        "iface.launch(share=True,debug=True)\n",
        "\n"
      ],
      "metadata": {
        "id": "dkcK1dws5r7v"
      },
      "execution_count": null,
      "outputs": []
    },
    {
      "cell_type": "code",
      "source": [],
      "metadata": {
        "id": "b0JBgrYEUPbp"
      },
      "execution_count": null,
      "outputs": []
    },
    {
      "cell_type": "code",
      "source": [],
      "metadata": {
        "id": "7kAZRi7cUPox"
      },
      "execution_count": null,
      "outputs": []
    },
    {
      "cell_type": "code",
      "source": [
        "# pip install transformers"
      ],
      "metadata": {
        "id": "Oz9qaBrDUPvn"
      },
      "execution_count": null,
      "outputs": []
    },
    {
      "cell_type": "code",
      "source": [
        "\n",
        "\n",
        "demo = gr.Blocks()\n",
        "\n",
        "with demo:\n",
        "    input_func1 = gr.Audio(type=\"filepath\")\n",
        "    output_func1 = gr.Textbox()\n",
        "    output_func2 = gr.Label()\n",
        "\n",
        "    b1 = gr.Button(\"Recognize Speech\")\n",
        "    b2 = gr.Button(\"Classify Sentiment\")\n",
        "\n",
        "    b1.click(Func1, inputs=input_func1, outputs=output_func1)\n",
        "    b2.click(Func2, inputs=output_func1, outputs=output_func2)\n",
        "\n",
        "demo.launch(share=True)\n"
      ],
      "metadata": {
        "colab": {
          "base_uri": "https://localhost:8080/",
          "height": 236
        },
        "id": "2TVjrkRKUP69",
        "outputId": "941b4777-67dd-4e14-c094-5886a8bd9d42"
      },
      "execution_count": null,
      "outputs": [
        {
          "output_type": "error",
          "ename": "NameError",
          "evalue": "ignored",
          "traceback": [
            "\u001b[0;31m---------------------------------------------------------------------------\u001b[0m",
            "\u001b[0;31mNameError\u001b[0m                                 Traceback (most recent call last)",
            "\u001b[0;32m<ipython-input-112-6cca52b8c621>\u001b[0m in \u001b[0;36m<cell line: 3>\u001b[0;34m()\u001b[0m\n\u001b[1;32m      9\u001b[0m     \u001b[0mb2\u001b[0m \u001b[0;34m=\u001b[0m \u001b[0mgr\u001b[0m\u001b[0;34m.\u001b[0m\u001b[0mButton\u001b[0m\u001b[0;34m(\u001b[0m\u001b[0;34m\"Classify Sentiment\"\u001b[0m\u001b[0;34m)\u001b[0m\u001b[0;34m\u001b[0m\u001b[0;34m\u001b[0m\u001b[0m\n\u001b[1;32m     10\u001b[0m \u001b[0;34m\u001b[0m\u001b[0m\n\u001b[0;32m---> 11\u001b[0;31m     \u001b[0mb1\u001b[0m\u001b[0;34m.\u001b[0m\u001b[0mclick\u001b[0m\u001b[0;34m(\u001b[0m\u001b[0mFunc1\u001b[0m\u001b[0;34m,\u001b[0m \u001b[0minputs\u001b[0m\u001b[0;34m=\u001b[0m\u001b[0minput_func1\u001b[0m\u001b[0;34m,\u001b[0m \u001b[0moutputs\u001b[0m\u001b[0;34m=\u001b[0m\u001b[0moutput_func1\u001b[0m\u001b[0;34m)\u001b[0m\u001b[0;34m\u001b[0m\u001b[0;34m\u001b[0m\u001b[0m\n\u001b[0m\u001b[1;32m     12\u001b[0m     \u001b[0mb2\u001b[0m\u001b[0;34m.\u001b[0m\u001b[0mclick\u001b[0m\u001b[0;34m(\u001b[0m\u001b[0mFunc2\u001b[0m\u001b[0;34m,\u001b[0m \u001b[0minputs\u001b[0m\u001b[0;34m=\u001b[0m\u001b[0moutput_func1\u001b[0m\u001b[0;34m,\u001b[0m \u001b[0moutputs\u001b[0m\u001b[0;34m=\u001b[0m\u001b[0moutput_func2\u001b[0m\u001b[0;34m)\u001b[0m\u001b[0;34m\u001b[0m\u001b[0;34m\u001b[0m\u001b[0m\n\u001b[1;32m     13\u001b[0m \u001b[0;34m\u001b[0m\u001b[0m\n",
            "\u001b[0;31mNameError\u001b[0m: name 'Func1' is not defined"
          ]
        }
      ]
    },
    {
      "cell_type": "code",
      "source": [
        "\n",
        "# get_audio(audio_path, ext = [\"*.mp3\", \"*.wav\", \"*.ogg\", \"*.flac\"],check_subfolders=False):\n",
        "# return audio_files, audio_base_names\n",
        "\n",
        "# def get_audio_files_dictionary(list_of_audio_files_including_extension):\n",
        "# return new_dict\n",
        "\n",
        "# play_audio(input_string_space_separated, list_of_audio_files_including_extension):\n",
        "# return combined_audio\n",
        "\n",
        "# play_audio_with_various_space_between_chunks(song, silence_duration = .5):\n",
        "#     return audio_chunk\n",
        "\n",
        "#  list_of_audio_files_including_extension =  get_audio()[0]\n",
        "\n",
        "\n",
        "# audio_result = play_audio(\"bǎ bá\",list_of_audio_files_including_extension)\n",
        "# audio_result_modified = play_audio_with_various_space_between_chunks(audio_result, silence_duration = .2)\n",
        "\n",
        "# gr.Textbox(value=1, label=\"Duration in seconds\"),\n",
        "\n",
        "#  inputs=[gr.Textbox(label=\"words: Example: ǎ bà\"),\n",
        "#                              gr.Textbox(value=1, label=\"Duration in seconds\"),\n",
        "#                              gr.Textbox(label=\"Path\")],\n",
        "\n",
        "def func1(x):\n",
        "  x = float(x)\n",
        "  return x**2\n",
        "\n",
        "def func2(y):\n",
        "  y = float(y)\n",
        "  return y**2\n",
        "\n",
        "def func3(a):\n",
        "  a = float(a)\n",
        "  # b = float(b)\n",
        "  return 2*a\n",
        "\n",
        "\n",
        "\n",
        "demo = gr.Blocks()\n",
        "\n",
        "with demo:\n",
        "    input_func1 = gr.Textbox(label = \"val1\")\n",
        "    input_func2 = gr.Textbox(label = \"val2\")\n",
        "    # input_func3 = [gr.Textbox(label = \"val3\")\n",
        "\n",
        "    output_func1 = gr.Label(label = \"result1\")\n",
        "    output_func2 = gr.Label(label = \"result2\")\n",
        "    output_func3 = gr.Label(label = \"result3\")\n",
        "\n",
        "    b1 = gr.Button(\"x^2\")\n",
        "    b2 = gr.Button(\"y^2\")\n",
        "    b3 = gr.Button(\"x^2+y^2\")\n",
        "\n",
        "\n",
        "    b1.click(func1, inputs=input_func1, outputs=output_func1)\n",
        "    b2.click(func2, inputs=input_func2, outputs=output_func2)\n",
        "    b3.click(func3, inputs=output_func1, outputs=output_func3)\n",
        "\n",
        "    # b2.click(play_audio, inputs=output_func1, outputs=output_func2)\n",
        "\n",
        "demo.launch(share=True, debug=True)\n"
      ],
      "metadata": {
        "colab": {
          "base_uri": "https://localhost:8080/",
          "height": 923
        },
        "id": "fZQutZRuWg-n",
        "outputId": "a28493c9-4997-4f46-b1ae-d56e5b8394e5"
      },
      "execution_count": null,
      "outputs": [
        {
          "output_type": "stream",
          "name": "stdout",
          "text": [
            "Colab notebook detected. This cell will run indefinitely so that you can see errors and logs. To turn off, set debug=False in launch().\n",
            "Running on public URL: https://81b7cac44f6bc3c875.gradio.live\n",
            "\n",
            "This share link expires in 72 hours. For free permanent hosting and GPU upgrades (NEW!), check out Spaces: https://huggingface.co/spaces\n"
          ]
        },
        {
          "output_type": "display_data",
          "data": {
            "text/plain": [
              "<IPython.core.display.HTML object>"
            ],
            "text/html": [
              "<div><iframe src=\"https://81b7cac44f6bc3c875.gradio.live\" width=\"100%\" height=\"500\" allow=\"autoplay; camera; microphone; clipboard-read; clipboard-write;\" frameborder=\"0\" allowfullscreen></iframe></div>"
            ]
          },
          "metadata": {}
        },
        {
          "output_type": "stream",
          "name": "stderr",
          "text": [
            "Traceback (most recent call last):\n",
            "  File \"/usr/local/lib/python3.10/dist-packages/gradio/routes.py\", line 414, in run_predict\n",
            "    output = await app.get_blocks().process_api(\n",
            "  File \"/usr/local/lib/python3.10/dist-packages/gradio/blocks.py\", line 1323, in process_api\n",
            "    result = await self.call_function(\n",
            "  File \"/usr/local/lib/python3.10/dist-packages/gradio/blocks.py\", line 1051, in call_function\n",
            "    prediction = await anyio.to_thread.run_sync(\n",
            "  File \"/usr/local/lib/python3.10/dist-packages/anyio/to_thread.py\", line 31, in run_sync\n",
            "    return await get_asynclib().run_sync_in_worker_thread(\n",
            "  File \"/usr/local/lib/python3.10/dist-packages/anyio/_backends/_asyncio.py\", line 937, in run_sync_in_worker_thread\n",
            "    return await future\n",
            "  File \"/usr/local/lib/python3.10/dist-packages/anyio/_backends/_asyncio.py\", line 867, in run\n",
            "    result = context.run(func, *args)\n",
            "  File \"<ipython-input-121-13f4df176f66>\", line 34, in func3\n",
            "    a = float(a)\n",
            "TypeError: float() argument must be a string or a real number, not 'dict'\n"
          ]
        },
        {
          "output_type": "stream",
          "name": "stdout",
          "text": [
            "Keyboard interruption in main thread... closing server.\n",
            "Killing tunnel 127.0.0.1:7870 <> https://81b7cac44f6bc3c875.gradio.live\n"
          ]
        },
        {
          "output_type": "execute_result",
          "data": {
            "text/plain": []
          },
          "metadata": {},
          "execution_count": 121
        }
      ]
    },
    {
      "cell_type": "code",
      "source": [
        "def main_func(input_string, speed = 1):\n",
        "  audio_result = play_audio(input_string)\n",
        "\n",
        "  audio_result_modified = play_audio_with_various_space_between_chunks(audio_result, silence_duration = float(speed))\n",
        "  return audio_result_modified\n",
        "\n",
        "main_func(\"ǎ bà\",\".1\")"
      ],
      "metadata": {
        "id": "6dQfoMlo8uPD"
      },
      "execution_count": null,
      "outputs": []
    }
  ]
}